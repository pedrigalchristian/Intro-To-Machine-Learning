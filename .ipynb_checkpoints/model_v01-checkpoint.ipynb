{
 "cells": [
  {
   "cell_type": "markdown",
   "metadata": {},
   "source": [
    "# Welcome! This is Antonio Cervantes and Christian Pedrigal's Machine Learning Final Project!\n",
    "\n",
    "## Implementation of an Activity Detection System\n",
    "\n",
    "#### Fall 2021 | Feruza Amirkulova ME 297-01 | Introduction to Optimization and Machine Learning |San Jose State University\n"
   ]
  },
  {
   "cell_type": "markdown",
   "metadata": {},
   "source": [
    "#### Imports"
   ]
  },
  {
   "cell_type": "code",
   "execution_count": 69,
   "metadata": {},
   "outputs": [],
   "source": [
    "import os\n",
    "import numpy as np\n",
    "from mpl_toolkits import mplot3d\n",
    "import matplotlib.pyplot as plt\n",
    "from pandas import read_csv\n",
    "import tensorflow as tf\n",
    "from tensorflow import keras\n",
    "from tensorflow.keras.utils import to_categorical\n",
    "from tensorflow.keras.models import Sequential\n",
    "from tensorflow.keras.layers import Dense, Dropout\n",
    "from tensorflow.keras.optimizers import RMSprop\n",
    "from tensorflow.python.keras.optimizer_v2.adam import Adam\n",
    "from tensorflow.keras.wrappers.scikit_learn import KerasClassifier\n",
    "from sklearn.preprocessing import LabelEncoder\n",
    "from sklearn.model_selection import cross_val_score\n",
    "from sklearn.model_selection import KFold"
   ]
  },
  {
   "cell_type": "markdown",
   "metadata": {},
   "source": [
    "# Input"
   ]
  },
  {
   "cell_type": "markdown",
   "metadata": {},
   "source": [
    "Data file should be in the format of\n",
    "\n",
    "feature1, feature2, feature3,... featureN, activity_label\n",
    "\n",
    "Features can be from any number of XYZ axes and from either or all sensors decided by engineers, but be sure to note which order they are placed in, and the order of the sensor type."
   ]
  },
  {
   "cell_type": "code",
   "execution_count": 2,
   "metadata": {},
   "outputs": [],
   "source": [
    "datafile = read_csv(r'.\\data\\finalData20211202.csv', header=0)\n",
    "dataset = datafile.values"
   ]
  },
  {
   "cell_type": "markdown",
   "metadata": {},
   "source": [
    "##### Visualize the Data"
   ]
  },
  {
   "cell_type": "code",
   "execution_count": 63,
   "metadata": {
    "scrolled": true
   },
   "outputs": [
    {
     "data": {
      "text/html": [
       "<div>\n",
       "<style scoped>\n",
       "    .dataframe tbody tr th:only-of-type {\n",
       "        vertical-align: middle;\n",
       "    }\n",
       "\n",
       "    .dataframe tbody tr th {\n",
       "        vertical-align: top;\n",
       "    }\n",
       "\n",
       "    .dataframe thead th {\n",
       "        text-align: right;\n",
       "    }\n",
       "</style>\n",
       "<table border=\"1\" class=\"dataframe\">\n",
       "  <thead>\n",
       "    <tr style=\"text-align: right;\">\n",
       "      <th></th>\n",
       "      <th>AngFreqX</th>\n",
       "      <th>AngFreqY</th>\n",
       "      <th>AngFreqZ</th>\n",
       "      <th>AmpX</th>\n",
       "      <th>AmpY</th>\n",
       "      <th>AmpZ</th>\n",
       "      <th>JerkX</th>\n",
       "      <th>JerkY</th>\n",
       "      <th>JerkZ</th>\n",
       "      <th>LabelCol</th>\n",
       "    </tr>\n",
       "  </thead>\n",
       "  <tbody>\n",
       "    <tr>\n",
       "      <th>0</th>\n",
       "      <td>0.199203</td>\n",
       "      <td>0.199203</td>\n",
       "      <td>0.199203</td>\n",
       "      <td>2.585287</td>\n",
       "      <td>0.913442</td>\n",
       "      <td>1.802900</td>\n",
       "      <td>41.77815</td>\n",
       "      <td>129.21880</td>\n",
       "      <td>72.65140</td>\n",
       "      <td>Bike</td>\n",
       "    </tr>\n",
       "    <tr>\n",
       "      <th>1</th>\n",
       "      <td>0.597610</td>\n",
       "      <td>0.597610</td>\n",
       "      <td>0.000000</td>\n",
       "      <td>3.329810</td>\n",
       "      <td>3.091933</td>\n",
       "      <td>2.349788</td>\n",
       "      <td>43.29745</td>\n",
       "      <td>16.30860</td>\n",
       "      <td>55.21265</td>\n",
       "      <td>Bike</td>\n",
       "    </tr>\n",
       "    <tr>\n",
       "      <th>2</th>\n",
       "      <td>0.597610</td>\n",
       "      <td>0.996016</td>\n",
       "      <td>0.000000</td>\n",
       "      <td>4.233957</td>\n",
       "      <td>3.157124</td>\n",
       "      <td>3.638205</td>\n",
       "      <td>2.00000</td>\n",
       "      <td>2.00000</td>\n",
       "      <td>48.67130</td>\n",
       "      <td>Bike</td>\n",
       "    </tr>\n",
       "    <tr>\n",
       "      <th>3</th>\n",
       "      <td>0.199203</td>\n",
       "      <td>0.996016</td>\n",
       "      <td>0.000000</td>\n",
       "      <td>1.001800</td>\n",
       "      <td>3.220194</td>\n",
       "      <td>2.941837</td>\n",
       "      <td>2.00000</td>\n",
       "      <td>24.96060</td>\n",
       "      <td>16.57805</td>\n",
       "      <td>Bike</td>\n",
       "    </tr>\n",
       "    <tr>\n",
       "      <th>4</th>\n",
       "      <td>0.398406</td>\n",
       "      <td>0.199203</td>\n",
       "      <td>0.000000</td>\n",
       "      <td>1.961231</td>\n",
       "      <td>3.002603</td>\n",
       "      <td>0.444325</td>\n",
       "      <td>26.70445</td>\n",
       "      <td>7.56675</td>\n",
       "      <td>2.05000</td>\n",
       "      <td>Bike</td>\n",
       "    </tr>\n",
       "    <tr>\n",
       "      <th>...</th>\n",
       "      <td>...</td>\n",
       "      <td>...</td>\n",
       "      <td>...</td>\n",
       "      <td>...</td>\n",
       "      <td>...</td>\n",
       "      <td>...</td>\n",
       "      <td>...</td>\n",
       "      <td>...</td>\n",
       "      <td>...</td>\n",
       "      <td>...</td>\n",
       "    </tr>\n",
       "    <tr>\n",
       "      <th>2445</th>\n",
       "      <td>0.948587</td>\n",
       "      <td>0.948587</td>\n",
       "      <td>0.000000</td>\n",
       "      <td>3.136291</td>\n",
       "      <td>3.582446</td>\n",
       "      <td>2.566307</td>\n",
       "      <td>2.00000</td>\n",
       "      <td>17565.71560</td>\n",
       "      <td>17463.29110</td>\n",
       "      <td>Walk</td>\n",
       "    </tr>\n",
       "    <tr>\n",
       "      <th>2446</th>\n",
       "      <td>0.996016</td>\n",
       "      <td>0.996016</td>\n",
       "      <td>0.000000</td>\n",
       "      <td>3.138745</td>\n",
       "      <td>3.620830</td>\n",
       "      <td>2.497816</td>\n",
       "      <td>79.63440</td>\n",
       "      <td>17841.84640</td>\n",
       "      <td>17887.60625</td>\n",
       "      <td>Walk</td>\n",
       "    </tr>\n",
       "    <tr>\n",
       "      <th>2447</th>\n",
       "      <td>0.996016</td>\n",
       "      <td>0.996016</td>\n",
       "      <td>0.000000</td>\n",
       "      <td>3.122694</td>\n",
       "      <td>3.752028</td>\n",
       "      <td>2.644596</td>\n",
       "      <td>17708.37645</td>\n",
       "      <td>2.05000</td>\n",
       "      <td>17486.68745</td>\n",
       "      <td>Walk</td>\n",
       "    </tr>\n",
       "    <tr>\n",
       "      <th>2448</th>\n",
       "      <td>0.996016</td>\n",
       "      <td>0.996016</td>\n",
       "      <td>0.000000</td>\n",
       "      <td>3.192397</td>\n",
       "      <td>3.699486</td>\n",
       "      <td>2.599819</td>\n",
       "      <td>17392.08415</td>\n",
       "      <td>17553.44860</td>\n",
       "      <td>68.84935</td>\n",
       "      <td>Walk</td>\n",
       "    </tr>\n",
       "    <tr>\n",
       "      <th>2449</th>\n",
       "      <td>0.996016</td>\n",
       "      <td>0.996016</td>\n",
       "      <td>0.000000</td>\n",
       "      <td>3.188220</td>\n",
       "      <td>3.641380</td>\n",
       "      <td>2.560861</td>\n",
       "      <td>583.14980</td>\n",
       "      <td>757.05815</td>\n",
       "      <td>376.74405</td>\n",
       "      <td>Walk</td>\n",
       "    </tr>\n",
       "  </tbody>\n",
       "</table>\n",
       "<p>2450 rows × 10 columns</p>\n",
       "</div>"
      ],
      "text/plain": [
       "      AngFreqX  AngFreqY  AngFreqZ      AmpX      AmpY      AmpZ        JerkX  \\\n",
       "0     0.199203  0.199203  0.199203  2.585287  0.913442  1.802900     41.77815   \n",
       "1     0.597610  0.597610  0.000000  3.329810  3.091933  2.349788     43.29745   \n",
       "2     0.597610  0.996016  0.000000  4.233957  3.157124  3.638205      2.00000   \n",
       "3     0.199203  0.996016  0.000000  1.001800  3.220194  2.941837      2.00000   \n",
       "4     0.398406  0.199203  0.000000  1.961231  3.002603  0.444325     26.70445   \n",
       "...        ...       ...       ...       ...       ...       ...          ...   \n",
       "2445  0.948587  0.948587  0.000000  3.136291  3.582446  2.566307      2.00000   \n",
       "2446  0.996016  0.996016  0.000000  3.138745  3.620830  2.497816     79.63440   \n",
       "2447  0.996016  0.996016  0.000000  3.122694  3.752028  2.644596  17708.37645   \n",
       "2448  0.996016  0.996016  0.000000  3.192397  3.699486  2.599819  17392.08415   \n",
       "2449  0.996016  0.996016  0.000000  3.188220  3.641380  2.560861    583.14980   \n",
       "\n",
       "            JerkY        JerkZ LabelCol  \n",
       "0       129.21880     72.65140     Bike  \n",
       "1        16.30860     55.21265     Bike  \n",
       "2         2.00000     48.67130     Bike  \n",
       "3        24.96060     16.57805     Bike  \n",
       "4         7.56675      2.05000     Bike  \n",
       "...           ...          ...      ...  \n",
       "2445  17565.71560  17463.29110     Walk  \n",
       "2446  17841.84640  17887.60625     Walk  \n",
       "2447      2.05000  17486.68745     Walk  \n",
       "2448  17553.44860     68.84935     Walk  \n",
       "2449    757.05815    376.74405     Walk  \n",
       "\n",
       "[2450 rows x 10 columns]"
      ]
     },
     "execution_count": 63,
     "metadata": {},
     "output_type": "execute_result"
    }
   ],
   "source": [
    "datafile"
   ]
  },
  {
   "cell_type": "code",
   "execution_count": null,
   "metadata": {},
   "outputs": [],
   "source": [
    "dataset[0]"
   ]
  },
  {
   "cell_type": "code",
   "execution_count": 91,
   "metadata": {},
   "outputs": [],
   "source": [
    "feature_names = list(datafile.columns.values)"
   ]
  },
  {
   "cell_type": "markdown",
   "metadata": {},
   "source": [
    "##### Parse the data and labels"
   ]
  },
  {
   "cell_type": "code",
   "execution_count": 3,
   "metadata": {},
   "outputs": [],
   "source": [
    "data = dataset[:,0:9].astype(float)\n",
    "labels = dataset[:,9]"
   ]
  },
  {
   "cell_type": "code",
   "execution_count": 4,
   "metadata": {},
   "outputs": [],
   "source": [
    "# encode class values as integers\n",
    "encoder = LabelEncoder()\n",
    "encoder.fit(labels)\n",
    "encoded_labels = encoder.transform(labels)"
   ]
  },
  {
   "cell_type": "code",
   "execution_count": null,
   "metadata": {},
   "outputs": [],
   "source": []
  },
  {
   "cell_type": "code",
   "execution_count": 107,
   "metadata": {},
   "outputs": [
    {
     "data": {
      "image/png": "[encoded data removed]",
      "text/plain": [
       "<Figure size 432x288 with 1 Axes>"
      ]
     },
     "metadata": {
      "needs_background": "light"
     },
     "output_type": "display_data"
    },
    {
     "data": {
      "image/png": "[encoded data removed]",
      "text/plain": [
       "<Figure size 432x288 with 1 Axes>"
      ]
     },
     "metadata": {
      "needs_background": "light"
     },
     "output_type": "display_data"
    },
    {
     "data": {
      "image/png": "[encoded data removed]",
      "text/plain": [
       "<Figure size 432x288 with 1 Axes>"
      ]
     },
     "metadata": {
      "needs_background": "light"
     },
     "output_type": "display_data"
    }
   ],
   "source": [
    "from mpl_toolkits import mplot3d\n",
    "x = np.arange(1,len(labels)+1)\n",
    "\n",
    "# Angle Frequency\n",
    "fig = plt.figure()\n",
    "ax = plt.axes(projection='3d')\n",
    "ax.plot3D(dataset[0:357,0],dataset[0:357,1],dataset[0:357,2], linestyle='none', marker='o', label='Bike')\n",
    "ax.plot3D(dataset[358:741,0],dataset[358:741,1],dataset[358:741,2], linestyle='none', marker='o', label='Jumprope')\n",
    "ax.plot3D(dataset[742:952,0],dataset[742:952,1],dataset[742:952,2], linestyle='none', marker='o', label='MtnClb')\n",
    "ax.plot3D(dataset[953:1210,0],dataset[953:1210,1],dataset[953:1210,2], linestyle='none', marker='o', label='Run')\n",
    "ax.plot3D(dataset[1211:1469,0],dataset[1211:1469,1],dataset[1211:1469,2], linestyle='none', marker='o', label='Squat')\n",
    "ax.plot3D(dataset[1470:1561,0],dataset[1470:1561,1],dataset[1470:1561,2], linestyle='none', marker='o', label='Stairs')\n",
    "ax.plot3D(dataset[1562:2451,0],dataset[1562:2451,1],dataset[1562:2451,2], linestyle='none', marker='o', label='Walk')\n",
    "plt.legend()\n",
    "ax.set_xlabel(feature_names[0])\n",
    "ax.set_ylabel(feature_names[1])\n",
    "ax.set_zlabel(feature_names[2]);\n",
    "\n",
    "# Amplitude\n",
    "fig = plt.figure()\n",
    "ax = plt.axes(projection='3d')\n",
    "ax.plot3D(dataset[0:357,3],dataset[0:357,4],dataset[0:357,5], linestyle='none', marker='o', label='Bike')\n",
    "ax.plot3D(dataset[358:741,3],dataset[358:741,4],dataset[358:741,5], linestyle='none', marker='o', label='Jumprope')\n",
    "ax.plot3D(dataset[742:952,3],dataset[742:952,4],dataset[742:952,5], linestyle='none', marker='o', label='MtnClb')\n",
    "ax.plot3D(dataset[953:1210,3],dataset[953:1210,4],dataset[953:1210,5], linestyle='none', marker='o', label='Run')\n",
    "ax.plot3D(dataset[1211:1469,3],dataset[1211:1469,4],dataset[1211:1469,5], linestyle='none', marker='o', label='Squat')\n",
    "ax.plot3D(dataset[1470:1561,3],dataset[1470:1561,4],dataset[1470:1561,5], linestyle='none', marker='o', label='Stairs')\n",
    "ax.plot3D(dataset[1562:2451,3],dataset[1562:2451,4],dataset[1562:2451,5], linestyle='none', marker='o', label='Walk')\n",
    "plt.legend()\n",
    "ax.set_xlabel(feature_names[3])\n",
    "ax.set_ylabel(feature_names[4])\n",
    "ax.set_zlabel(feature_names[5]);\n",
    "\n",
    "# Jerk\n",
    "fig = plt.figure()\n",
    "ax = plt.axes(projection='3d')\n",
    "ax.plot3D(dataset[0:357,6],dataset[0:357,7],dataset[0:357,8], linestyle='none', marker='o', label='Bike')\n",
    "ax.plot3D(dataset[358:741,6],dataset[358:741,7],dataset[358:741,8], linestyle='none', marker='o', label='Jumprope')\n",
    "ax.plot3D(dataset[742:952,6],dataset[742:952,7],dataset[742:952,8], linestyle='none', marker='o', label='MtnClb')\n",
    "ax.plot3D(dataset[953:1210,6],dataset[953:1210,7],dataset[953:1210,8], linestyle='none', marker='o', label='Run')\n",
    "ax.plot3D(dataset[1211:1469,6],dataset[1211:1469,7],dataset[1211:1469,8], linestyle='none', marker='o', label='Squat')\n",
    "ax.plot3D(dataset[1470:1561,6],dataset[1470:1561,7],dataset[1470:1561,8], linestyle='none', marker='o', label='Stairs')\n",
    "ax.plot3D(dataset[1562:2451,6],dataset[1562:2451,7],dataset[1562:2451,8], linestyle='none', marker='o', label='Walk')\n",
    "plt.legend()\n",
    "ax.set_xlabel(feature_names[6])\n",
    "ax.set_ylabel(feature_names[7])\n",
    "ax.set_zlabel(feature_names[8]);"
   ]
  },
  {
   "cell_type": "markdown",
   "metadata": {},
   "source": [
    "Debug"
   ]
  },
  {
   "cell_type": "code",
   "execution_count": 8,
   "metadata": {},
   "outputs": [
    {
     "data": {
      "text/plain": [
       "(2450, 9)"
      ]
     },
     "execution_count": 8,
     "metadata": {},
     "output_type": "execute_result"
    }
   ],
   "source": [
    "data.shape"
   ]
  },
  {
   "cell_type": "code",
   "execution_count": 61,
   "metadata": {},
   "outputs": [
    {
     "data": {
      "text/plain": [
       "(2450,)"
      ]
     },
     "execution_count": 61,
     "metadata": {},
     "output_type": "execute_result"
    }
   ],
   "source": [
    "labels.shape"
   ]
  },
  {
   "cell_type": "code",
   "execution_count": 62,
   "metadata": {},
   "outputs": [
    {
     "data": {
      "text/plain": [
       "<enumerate at 0x15c2fc1b940>"
      ]
     },
     "execution_count": 62,
     "metadata": {},
     "output_type": "execute_result"
    }
   ],
   "source": [
    "enumerate(labels)"
   ]
  },
  {
   "cell_type": "code",
   "execution_count": 53,
   "metadata": {},
   "outputs": [
    {
     "data": {
      "text/plain": [
       "(2450,)"
      ]
     },
     "execution_count": 53,
     "metadata": {},
     "output_type": "execute_result"
    }
   ],
   "source": [
    "encoded_labels.shape"
   ]
  },
  {
   "cell_type": "markdown",
   "metadata": {},
   "source": [
    "# Learning"
   ]
  },
  {
   "cell_type": "markdown",
   "metadata": {},
   "source": [
    "#### Method 1: Using model.fit"
   ]
  },
  {
   "cell_type": "code",
   "execution_count": 102,
   "metadata": {},
   "outputs": [
    {
     "name": "stdout",
     "output_type": "stream",
     "text": [
      "Model: \"sequential_21\"\n",
      "_________________________________________________________________\n",
      "Layer (type)                 Output Shape              Param #   \n",
      "=================================================================\n",
      "dense_41 (Dense)             (None, 9)                 18        \n",
      "_________________________________________________________________\n",
      "dense_42 (Dense)             (None, 9)                 90        \n",
      "=================================================================\n",
      "Total params: 108\n",
      "Trainable params: 108\n",
      "Non-trainable params: 0\n",
      "_________________________________________________________________\n"
     ]
    }
   ],
   "source": [
    "# Create the model      , input_shape=(2450,9)\n",
    "model = Sequential()\n",
    "model.add(Dense(9, input_dim=1, activation='relu'))\n",
    "#model.add(Dropout())\n",
    "model.add(Dense(9, activation='softmax'))\n",
    "model.summary()"
   ]
  },
  {
   "cell_type": "code",
   "execution_count": 103,
   "metadata": {},
   "outputs": [],
   "source": [
    "# Compile model\n",
    "model.compile(loss='categorical_crossentropy', optimizer='adam', metrics=['accuracy'])"
   ]
  },
  {
   "cell_type": "code",
   "execution_count": 104,
   "metadata": {},
   "outputs": [
    {
     "name": "stdout",
     "output_type": "stream",
     "text": [
      "Epoch 1/150\n",
      "33/33 [==============================] - 1s 15ms/step - loss: 17995.9551 - accuracy: 0.4016 - val_loss: 16402.8164 - val_accuracy: 0.3164\n",
      "Epoch 2/150\n",
      "33/33 [==============================] - 0s 5ms/step - loss: 17655.6426 - accuracy: 0.4046 - val_loss: 16642.0352 - val_accuracy: 0.3164\n",
      "Epoch 3/150\n",
      "33/33 [==============================] - 0s 4ms/step - loss: 17466.3789 - accuracy: 0.4046 - val_loss: 17046.7949 - val_accuracy: 0.3164\n",
      "Epoch 4/150\n",
      "33/33 [==============================] - 0s 4ms/step - loss: 17530.3574 - accuracy: 0.4046 - val_loss: 17866.5000 - val_accuracy: 0.3164\n",
      "Epoch 5/150\n",
      "33/33 [==============================] - 0s 4ms/step - loss: 17647.8555 - accuracy: 0.4046 - val_loss: 18572.5039 - val_accuracy: 0.3164\n",
      "Epoch 6/150\n",
      "33/33 [==============================] - 0s 5ms/step - loss: 17827.8301 - accuracy: 0.4046 - val_loss: 19340.0117 - val_accuracy: 0.3164\n",
      "Epoch 7/150\n",
      "33/33 [==============================] - 0s 4ms/step - loss: 18029.1074 - accuracy: 0.4046 - val_loss: 20114.2305 - val_accuracy: 0.3164\n",
      "Epoch 8/150\n",
      "33/33 [==============================] - 0s 4ms/step - loss: 18325.4688 - accuracy: 0.4046 - val_loss: 21014.4062 - val_accuracy: 0.3164\n",
      "Epoch 9/150\n",
      "33/33 [==============================] - 0s 4ms/step - loss: 18566.8867 - accuracy: 0.4046 - val_loss: 21890.7812 - val_accuracy: 0.3164\n",
      "Epoch 10/150\n",
      "33/33 [==============================] - 0s 4ms/step - loss: 18965.4648 - accuracy: 0.4046 - val_loss: 23079.6191 - val_accuracy: 0.3164\n",
      "Epoch 11/150\n",
      "33/33 [==============================] - 0s 4ms/step - loss: 19388.3477 - accuracy: 0.4046 - val_loss: 23952.0488 - val_accuracy: 0.3164\n",
      "Epoch 12/150\n",
      "33/33 [==============================] - 0s 4ms/step - loss: 19802.6680 - accuracy: 0.4046 - val_loss: 25045.5449 - val_accuracy: 0.3164\n",
      "Epoch 13/150\n",
      "33/33 [==============================] - 0s 4ms/step - loss: 20289.9629 - accuracy: 0.4046 - val_loss: 26083.9375 - val_accuracy: 0.3164\n",
      "Epoch 14/150\n",
      "33/33 [==============================] - 0s 5ms/step - loss: 20946.3066 - accuracy: 0.4046 - val_loss: 27572.3926 - val_accuracy: 0.3164\n",
      "Epoch 15/150\n",
      "33/33 [==============================] - 0s 5ms/step - loss: 21518.3574 - accuracy: 0.4046 - val_loss: 28737.6660 - val_accuracy: 0.3164\n",
      "Epoch 16/150\n",
      "33/33 [==============================] - 0s 5ms/step - loss: 22102.2207 - accuracy: 0.4046 - val_loss: 29938.4121 - val_accuracy: 0.3164\n",
      "Epoch 17/150\n",
      "33/33 [==============================] - 0s 4ms/step - loss: 22962.0273 - accuracy: 0.4046 - val_loss: 31654.2012 - val_accuracy: 0.3164\n",
      "Epoch 18/150\n",
      "33/33 [==============================] - 0s 5ms/step - loss: 23635.6738 - accuracy: 0.4046 - val_loss: 32858.0430 - val_accuracy: 0.3164\n",
      "Epoch 19/150\n",
      "33/33 [==============================] - 0s 5ms/step - loss: 24521.0840 - accuracy: 0.4046 - val_loss: 34634.3086 - val_accuracy: 0.3164\n",
      "Epoch 20/150\n",
      "33/33 [==============================] - 0s 5ms/step - loss: 25546.5645 - accuracy: 0.4046 - val_loss: 36407.5469 - val_accuracy: 0.3164\n",
      "Epoch 21/150\n",
      "33/33 [==============================] - 0s 5ms/step - loss: 26464.9668 - accuracy: 0.4046 - val_loss: 37896.4922 - val_accuracy: 0.3164\n",
      "Epoch 22/150\n",
      "33/33 [==============================] - 0s 5ms/step - loss: 27333.2793 - accuracy: 0.4046 - val_loss: 39310.0625 - val_accuracy: 0.3164\n",
      "Epoch 23/150\n",
      "33/33 [==============================] - 0s 4ms/step - loss: 28430.5645 - accuracy: 0.4046 - val_loss: 41362.9961 - val_accuracy: 0.3164\n",
      "Epoch 24/150\n",
      "33/33 [==============================] - 0s 4ms/step - loss: 29636.7734 - accuracy: 0.4046 - val_loss: 43380.8398 - val_accuracy: 0.3164\n",
      "Epoch 25/150\n",
      "33/33 [==============================] - 0s 4ms/step - loss: 30817.2891 - accuracy: 0.4046 - val_loss: 45386.9062 - val_accuracy: 0.3164\n",
      "Epoch 26/150\n",
      "33/33 [==============================] - 0s 4ms/step - loss: 31812.2090 - accuracy: 0.4046 - val_loss: 47068.3711 - val_accuracy: 0.3164\n",
      "Epoch 27/150\n",
      "33/33 [==============================] - 0s 4ms/step - loss: 33181.1875 - accuracy: 0.3382 - val_loss: 49272.7773 - val_accuracy: 0.3164\n",
      "Epoch 28/150\n",
      "33/33 [==============================] - 0s 5ms/step - loss: 34117.5000 - accuracy: 0.3218 - val_loss: 50526.1797 - val_accuracy: 0.3164\n",
      "Epoch 29/150\n",
      "33/33 [==============================] - 0s 5ms/step - loss: 35151.2188 - accuracy: 0.3218 - val_loss: 52532.0352 - val_accuracy: 0.3164\n",
      "Epoch 30/150\n",
      "33/33 [==============================] - 0s 5ms/step - loss: 36322.5195 - accuracy: 0.3218 - val_loss: 54602.8633 - val_accuracy: 0.3164\n",
      "Epoch 31/150\n",
      "33/33 [==============================] - 0s 5ms/step - loss: 37713.2656 - accuracy: 0.3218 - val_loss: 56847.8672 - val_accuracy: 0.3164\n",
      "Epoch 32/150\n",
      "33/33 [==============================] - 0s 5ms/step - loss: 38680.5859 - accuracy: 0.3218 - val_loss: 58401.4570 - val_accuracy: 0.3164\n",
      "Epoch 33/150\n",
      "33/33 [==============================] - 0s 5ms/step - loss: 39965.6094 - accuracy: 0.3218 - val_loss: 60563.0391 - val_accuracy: 0.3164\n",
      "Epoch 34/150\n",
      "33/33 [==============================] - 0s 5ms/step - loss: 40794.0352 - accuracy: 0.3218 - val_loss: 62112.4062 - val_accuracy: 0.3164\n",
      "Epoch 35/150\n",
      "33/33 [==============================] - 0s 6ms/step - loss: 42116.9688 - accuracy: 0.3218 - val_loss: 64384.2969 - val_accuracy: 0.3164\n",
      "Epoch 36/150\n",
      "33/33 [==============================] - 0s 6ms/step - loss: 43418.3945 - accuracy: 0.3218 - val_loss: 66510.7812 - val_accuracy: 0.3164\n",
      "Epoch 37/150\n",
      "33/33 [==============================] - 0s 6ms/step - loss: 44507.2461 - accuracy: 0.3218 - val_loss: 68392.5469 - val_accuracy: 0.3164\n",
      "Epoch 38/150\n",
      "33/33 [==============================] - 0s 6ms/step - loss: 45705.2305 - accuracy: 0.3218 - val_loss: 70318.2891 - val_accuracy: 0.3164\n",
      "Epoch 39/150\n",
      "33/33 [==============================] - 0s 4ms/step - loss: 46967.5117 - accuracy: 0.3218 - val_loss: 72665.5703 - val_accuracy: 0.3164\n",
      "Epoch 40/150\n",
      "33/33 [==============================] - 0s 5ms/step - loss: 48373.4297 - accuracy: 0.2761 - val_loss: 74719.3594 - val_accuracy: 0.3164\n",
      "Epoch 41/150\n",
      "33/33 [==============================] - 0s 4ms/step - loss: 49324.4062 - accuracy: 0.3218 - val_loss: 76472.1328 - val_accuracy: 0.3164\n",
      "Epoch 42/150\n",
      "33/33 [==============================] - 0s 4ms/step - loss: 50743.8789 - accuracy: 0.2651 - val_loss: 78735.6719 - val_accuracy: 0.3164\n",
      "Epoch 43/150\n",
      "33/33 [==============================] - 0s 4ms/step - loss: 52231.9141 - accuracy: 0.2474 - val_loss: 81202.1016 - val_accuracy: 0.3164\n",
      "Epoch 44/150\n",
      "33/33 [==============================] - 0s 5ms/step - loss: 53191.6328 - accuracy: 0.2102 - val_loss: 83030.7656 - val_accuracy: 0.3164\n",
      "Epoch 45/150\n",
      "33/33 [==============================] - 0s 4ms/step - loss: 54530.5938 - accuracy: 0.1889 - val_loss: 85399.1797 - val_accuracy: 0.3164\n",
      "Epoch 46/150\n",
      "33/33 [==============================] - 0s 5ms/step - loss: 55977.7305 - accuracy: 0.0122 - val_loss: 87499.0078 - val_accuracy: 0.0309\n",
      "Epoch 47/150\n",
      "33/33 [==============================] - 0s 5ms/step - loss: 57255.2383 - accuracy: 6.0938e-04 - val_loss: 89550.0391 - val_accuracy: 0.0309\n",
      "Epoch 48/150\n",
      "33/33 [==============================] - 0s 5ms/step - loss: 58259.2969 - accuracy: 0.0012 - val_loss: 91748.3672 - val_accuracy: 0.0309\n",
      "Epoch 49/150\n",
      "33/33 [==============================] - 0s 5ms/step - loss: 59954.2617 - accuracy: 0.0012 - val_loss: 94105.4375 - val_accuracy: 0.0309\n",
      "Epoch 50/150\n",
      "33/33 [==============================] - 0s 7ms/step - loss: 61301.1719 - accuracy: 0.0012 - val_loss: 96218.2266 - val_accuracy: 0.0309\n",
      "Epoch 51/150\n",
      "33/33 [==============================] - 0s 5ms/step - loss: 62980.7148 - accuracy: 0.0012 - val_loss: 99449.7734 - val_accuracy: 0.0309\n",
      "Epoch 52/150\n",
      "33/33 [==============================] - 0s 4ms/step - loss: 64339.5430 - accuracy: 0.0012 - val_loss: 101522.0859 - val_accuracy: 0.0309\n",
      "Epoch 53/150\n",
      "33/33 [==============================] - 0s 4ms/step - loss: 65549.0469 - accuracy: 0.0012 - val_loss: 104402.3906 - val_accuracy: 0.0309\n",
      "Epoch 54/150\n",
      "33/33 [==============================] - 0s 4ms/step - loss: 67167.2891 - accuracy: 0.0012 - val_loss: 107117.5312 - val_accuracy: 0.0309\n",
      "Epoch 55/150\n",
      "33/33 [==============================] - 0s 4ms/step - loss: 68528.9844 - accuracy: 0.0012 - val_loss: 109096.1094 - val_accuracy: 0.0309\n",
      "Epoch 56/150\n",
      "33/33 [==============================] - 0s 4ms/step - loss: 69799.4219 - accuracy: 0.0012 - val_loss: 111368.2266 - val_accuracy: 0.0309\n",
      "Epoch 57/150\n",
      "33/33 [==============================] - 0s 5ms/step - loss: 71334.9531 - accuracy: 0.0012 - val_loss: 113979.0938 - val_accuracy: 0.0309\n",
      "Epoch 58/150\n",
      "33/33 [==============================] - 0s 4ms/step - loss: 73206.4766 - accuracy: 0.0012 - val_loss: 117510.7031 - val_accuracy: 0.0309\n",
      "Epoch 59/150\n",
      "33/33 [==============================] - 0s 4ms/step - loss: 74841.9141 - accuracy: 0.0012 - val_loss: 119958.1641 - val_accuracy: 0.0309\n",
      "Epoch 60/150\n",
      "33/33 [==============================] - 0s 4ms/step - loss: 75947.3828 - accuracy: 0.0012 - val_loss: 122034.9844 - val_accuracy: 0.0309\n",
      "Epoch 61/150\n",
      "33/33 [==============================] - 0s 5ms/step - loss: 77501.7969 - accuracy: 0.0012 - val_loss: 124271.5859 - val_accuracy: 0.0309\n",
      "Epoch 62/150\n",
      "33/33 [==============================] - 0s 4ms/step - loss: 79348.8438 - accuracy: 0.0012 - val_loss: 128254.7578 - val_accuracy: 0.0309\n",
      "Epoch 63/150\n",
      "33/33 [==============================] - 0s 5ms/step - loss: 81384.0312 - accuracy: 0.0012 - val_loss: 131070.2969 - val_accuracy: 0.0309\n",
      "Epoch 64/150\n",
      "33/33 [==============================] - 0s 5ms/step - loss: 82858.2578 - accuracy: 0.0012 - val_loss: 134395.2656 - val_accuracy: 0.0309\n",
      "Epoch 65/150\n",
      "33/33 [==============================] - 0s 4ms/step - loss: 84523.6016 - accuracy: 0.0012 - val_loss: 136741.7969 - val_accuracy: 0.0309\n",
      "Epoch 66/150\n",
      "33/33 [==============================] - 0s 4ms/step - loss: 86068.4844 - accuracy: 0.0012 - val_loss: 139173.6719 - val_accuracy: 0.0309\n",
      "Epoch 67/150\n",
      "33/33 [==============================] - 0s 4ms/step - loss: 88381.7188 - accuracy: 0.0012 - val_loss: 143278.3594 - val_accuracy: 0.0309\n",
      "Epoch 68/150\n",
      "33/33 [==============================] - 0s 4ms/step - loss: 90020.8438 - accuracy: 0.0012 - val_loss: 146450.5469 - val_accuracy: 0.0309\n",
      "Epoch 69/150\n",
      "33/33 [==============================] - 0s 5ms/step - loss: 92263.1953 - accuracy: 0.0012 - val_loss: 150523.4062 - val_accuracy: 0.0309\n",
      "Epoch 70/150\n",
      "33/33 [==============================] - 0s 5ms/step - loss: 94585.5859 - accuracy: 0.0012 - val_loss: 154401.0469 - val_accuracy: 0.0309\n",
      "Epoch 71/150\n",
      "33/33 [==============================] - 0s 5ms/step - loss: 96588.5312 - accuracy: 0.0012 - val_loss: 157343.6562 - val_accuracy: 0.0309\n",
      "Epoch 72/150\n",
      "33/33 [==============================] - 0s 4ms/step - loss: 98560.6172 - accuracy: 0.0012 - val_loss: 160398.9844 - val_accuracy: 0.0309\n",
      "Epoch 73/150\n",
      "33/33 [==============================] - 0s 4ms/step - loss: 100779.4766 - accuracy: 0.0012 - val_loss: 165041.4531 - val_accuracy: 0.0309\n",
      "Epoch 74/150\n",
      "33/33 [==============================] - 0s 4ms/step - loss: 103280.4375 - accuracy: 0.0012 - val_loss: 168598.9219 - val_accuracy: 0.0309\n",
      "Epoch 75/150\n",
      "33/33 [==============================] - 0s 4ms/step - loss: 105672.8438 - accuracy: 0.0012 - val_loss: 173002.5781 - val_accuracy: 0.0309\n",
      "Epoch 76/150\n",
      "33/33 [==============================] - 0s 4ms/step - loss: 107545.6172 - accuracy: 0.0012 - val_loss: 176830.0000 - val_accuracy: 0.0309\n",
      "Epoch 77/150\n",
      "33/33 [==============================] - 0s 5ms/step - loss: 110232.0234 - accuracy: 0.0012 - val_loss: 181315.3750 - val_accuracy: 0.0309\n",
      "Epoch 78/150\n",
      "33/33 [==============================] - 0s 5ms/step - loss: 112165.7812 - accuracy: 0.0012 - val_loss: 183956.5312 - val_accuracy: 0.0309\n",
      "Epoch 79/150\n",
      "33/33 [==============================] - 0s 5ms/step - loss: 114781.8828 - accuracy: 0.0012 - val_loss: 188982.1250 - val_accuracy: 0.0309\n",
      "Epoch 80/150\n",
      "33/33 [==============================] - 0s 6ms/step - loss: 117031.3828 - accuracy: 0.0012 - val_loss: 193168.0938 - val_accuracy: 0.0309\n",
      "Epoch 81/150\n",
      "33/33 [==============================] - 0s 5ms/step - loss: 120584.9688 - accuracy: 0.0012 - val_loss: 199869.3750 - val_accuracy: 0.0309\n",
      "Epoch 82/150\n",
      "33/33 [==============================] - 0s 5ms/step - loss: 123287.8516 - accuracy: 0.0012 - val_loss: 203933.4844 - val_accuracy: 0.0309\n",
      "Epoch 83/150\n",
      "33/33 [==============================] - 0s 5ms/step - loss: 125931.0469 - accuracy: 0.0012 - val_loss: 208569.7969 - val_accuracy: 0.0309\n",
      "Epoch 84/150\n",
      "33/33 [==============================] - 0s 5ms/step - loss: 128381.8750 - accuracy: 0.0012 - val_loss: 212180.1094 - val_accuracy: 0.0309\n",
      "Epoch 85/150\n",
      "33/33 [==============================] - 0s 5ms/step - loss: 131450.9844 - accuracy: 0.0012 - val_loss: 217861.9531 - val_accuracy: 0.0309\n",
      "Epoch 86/150\n",
      "33/33 [==============================] - 0s 5ms/step - loss: 134995.2344 - accuracy: 0.0012 - val_loss: 222917.2969 - val_accuracy: 0.0309\n",
      "Epoch 87/150\n",
      "33/33 [==============================] - 0s 5ms/step - loss: 136986.9688 - accuracy: 0.0012 - val_loss: 226333.0156 - val_accuracy: 0.0309\n",
      "Epoch 88/150\n",
      "33/33 [==============================] - 0s 5ms/step - loss: 139953.1875 - accuracy: 0.0012 - val_loss: 232347.3125 - val_accuracy: 0.0309\n",
      "Epoch 89/150\n",
      "33/33 [==============================] - 0s 5ms/step - loss: 142884.6250 - accuracy: 0.0012 - val_loss: 236522.8594 - val_accuracy: 0.0309\n",
      "Epoch 90/150\n",
      "33/33 [==============================] - 0s 4ms/step - loss: 146261.3125 - accuracy: 0.0012 - val_loss: 241997.5625 - val_accuracy: 0.0309\n",
      "Epoch 91/150\n",
      "33/33 [==============================] - 0s 5ms/step - loss: 150011.6094 - accuracy: 0.0012 - val_loss: 247937.9844 - val_accuracy: 0.0309\n",
      "Epoch 92/150\n",
      "33/33 [==============================] - 0s 5ms/step - loss: 152356.1875 - accuracy: 0.0012 - val_loss: 252571.1875 - val_accuracy: 0.0309\n",
      "Epoch 93/150\n",
      "33/33 [==============================] - 0s 5ms/step - loss: 156395.0312 - accuracy: 0.0012 - val_loss: 258522.3906 - val_accuracy: 0.0309\n",
      "Epoch 94/150\n",
      "33/33 [==============================] - 0s 5ms/step - loss: 159192.2344 - accuracy: 0.0012 - val_loss: 263091.2188 - val_accuracy: 0.0309\n",
      "Epoch 95/150\n",
      "33/33 [==============================] - 0s 5ms/step - loss: 162622.7656 - accuracy: 0.0012 - val_loss: 270565.1562 - val_accuracy: 0.0309\n",
      "Epoch 96/150\n",
      "33/33 [==============================] - 0s 5ms/step - loss: 166536.2500 - accuracy: 0.0012 - val_loss: 276129.6875 - val_accuracy: 0.0309\n",
      "Epoch 97/150\n",
      "33/33 [==============================] - 0s 5ms/step - loss: 169578.4062 - accuracy: 0.0030 - val_loss: 282050.5625 - val_accuracy: 0.0309\n",
      "Epoch 98/150\n",
      "33/33 [==============================] - 0s 4ms/step - loss: 172435.1094 - accuracy: 0.0012 - val_loss: 286900.0938 - val_accuracy: 0.0309\n",
      "Epoch 99/150\n",
      "33/33 [==============================] - 0s 4ms/step - loss: 176168.0469 - accuracy: 0.0024 - val_loss: 293937.9688 - val_accuracy: 0.0309\n",
      "Epoch 100/150\n",
      "33/33 [==============================] - 0s 4ms/step - loss: 180334.2344 - accuracy: 0.0018 - val_loss: 300184.8750 - val_accuracy: 0.0309\n",
      "Epoch 101/150\n",
      "33/33 [==============================] - 0s 5ms/step - loss: 184258.5938 - accuracy: 0.0012 - val_loss: 306406.7500 - val_accuracy: 0.0309\n",
      "Epoch 102/150\n",
      "33/33 [==============================] - 0s 4ms/step - loss: 186452.0469 - accuracy: 0.0024 - val_loss: 310847.1562 - val_accuracy: 0.0309\n",
      "Epoch 103/150\n",
      "33/33 [==============================] - 0s 5ms/step - loss: 190837.0469 - accuracy: 0.0018 - val_loss: 319389.8125 - val_accuracy: 0.0309\n",
      "Epoch 104/150\n",
      "33/33 [==============================] - 0s 5ms/step - loss: 195063.5000 - accuracy: 0.0018 - val_loss: 325828.1875 - val_accuracy: 0.0309\n",
      "Epoch 105/150\n",
      "33/33 [==============================] - 0s 5ms/step - loss: 197431.4531 - accuracy: 0.0030 - val_loss: 328842.3750 - val_accuracy: 0.0309\n",
      "Epoch 106/150\n",
      "33/33 [==============================] - 0s 5ms/step - loss: 202137.4844 - accuracy: 0.0012 - val_loss: 338936.7188 - val_accuracy: 0.0309\n",
      "Epoch 107/150\n",
      "33/33 [==============================] - 0s 5ms/step - loss: 205349.0938 - accuracy: 0.0012 - val_loss: 341272.8125 - val_accuracy: 0.0309\n",
      "Epoch 108/150\n",
      "33/33 [==============================] - 0s 7ms/step - loss: 208973.2969 - accuracy: 0.0018 - val_loss: 348333.3438 - val_accuracy: 0.0309\n",
      "Epoch 109/150\n"
     ]
    },
    {
     "name": "stdout",
     "output_type": "stream",
     "text": [
      "33/33 [==============================] - 0s 5ms/step - loss: 213036.3125 - accuracy: 0.0012 - val_loss: 355706.9375 - val_accuracy: 0.0309\n",
      "Epoch 110/150\n",
      "33/33 [==============================] - 0s 4ms/step - loss: 216713.4844 - accuracy: 0.0012 - val_loss: 361301.9375 - val_accuracy: 0.0309\n",
      "Epoch 111/150\n",
      "33/33 [==============================] - 0s 4ms/step - loss: 220850.7812 - accuracy: 0.0012 - val_loss: 367092.5312 - val_accuracy: 0.0309\n",
      "Epoch 112/150\n",
      "33/33 [==============================] - 0s 4ms/step - loss: 224721.9531 - accuracy: 0.0018 - val_loss: 376846.6875 - val_accuracy: 0.0309\n",
      "Epoch 113/150\n",
      "33/33 [==============================] - 0s 4ms/step - loss: 227948.6094 - accuracy: 0.0024 - val_loss: 379672.8125 - val_accuracy: 0.0309\n",
      "Epoch 114/150\n",
      "33/33 [==============================] - 0s 4ms/step - loss: 232792.4375 - accuracy: 0.0012 - val_loss: 389352.6250 - val_accuracy: 0.0309\n",
      "Epoch 115/150\n",
      "33/33 [==============================] - 0s 4ms/step - loss: 236299.7969 - accuracy: 0.0037 - val_loss: 394612.7812 - val_accuracy: 0.0309\n",
      "Epoch 116/150\n",
      "33/33 [==============================] - 0s 4ms/step - loss: 240181.5312 - accuracy: 0.0037 - val_loss: 401641.8750 - val_accuracy: 0.0309\n",
      "Epoch 117/150\n",
      "33/33 [==============================] - 0s 4ms/step - loss: 244606.5625 - accuracy: 0.0024 - val_loss: 410290.3438 - val_accuracy: 0.0309\n",
      "Epoch 118/150\n",
      "33/33 [==============================] - 0s 4ms/step - loss: 248820.6719 - accuracy: 0.0018 - val_loss: 415407.5312 - val_accuracy: 0.0309\n",
      "Epoch 119/150\n",
      "33/33 [==============================] - 0s 4ms/step - loss: 251816.7969 - accuracy: 0.0037 - val_loss: 419422.0938 - val_accuracy: 0.0309\n",
      "Epoch 120/150\n",
      "33/33 [==============================] - 0s 5ms/step - loss: 256727.0625 - accuracy: 0.0043 - val_loss: 431159.1250 - val_accuracy: 0.0309\n",
      "Epoch 121/150\n",
      "33/33 [==============================] - 0s 5ms/step - loss: 260792.3906 - accuracy: 0.0030 - val_loss: 436755.5000 - val_accuracy: 0.0309\n",
      "Epoch 122/150\n",
      "33/33 [==============================] - 0s 5ms/step - loss: 265468.4062 - accuracy: 0.0024 - val_loss: 441670.5000 - val_accuracy: 0.0309\n",
      "Epoch 123/150\n",
      "33/33 [==============================] - 0s 4ms/step - loss: 269811.8438 - accuracy: 0.0024 - val_loss: 450207.0938 - val_accuracy: 0.0309\n",
      "Epoch 124/150\n",
      "33/33 [==============================] - 0s 4ms/step - loss: 273634.9375 - accuracy: 0.0024 - val_loss: 457155.2812 - val_accuracy: 0.0309\n",
      "Epoch 125/150\n",
      "33/33 [==============================] - 0s 5ms/step - loss: 277659.8750 - accuracy: 0.0018 - val_loss: 464040.1562 - val_accuracy: 0.0309\n",
      "Epoch 126/150\n",
      "33/33 [==============================] - 0s 6ms/step - loss: 282304.6875 - accuracy: 0.0024 - val_loss: 470959.1250 - val_accuracy: 0.0309\n",
      "Epoch 127/150\n",
      "33/33 [==============================] - 0s 6ms/step - loss: 286990.9062 - accuracy: 0.0012 - val_loss: 480919.2188 - val_accuracy: 0.0309\n",
      "Epoch 128/150\n",
      "33/33 [==============================] - 0s 5ms/step - loss: 291672.5625 - accuracy: 0.0043 - val_loss: 489123.3125 - val_accuracy: 0.0309\n",
      "Epoch 129/150\n",
      "33/33 [==============================] - 0s 5ms/step - loss: 296361.9688 - accuracy: 0.0012 - val_loss: 495932.6250 - val_accuracy: 0.0309\n",
      "Epoch 130/150\n",
      "33/33 [==============================] - 0s 5ms/step - loss: 301534.8438 - accuracy: 0.0024 - val_loss: 502003.3125 - val_accuracy: 0.0309\n",
      "Epoch 131/150\n",
      "33/33 [==============================] - 0s 5ms/step - loss: 304489.9375 - accuracy: 0.0024 - val_loss: 508907.5000 - val_accuracy: 0.0309\n",
      "Epoch 132/150\n",
      "33/33 [==============================] - 0s 5ms/step - loss: 309351.6562 - accuracy: 0.0018 - val_loss: 517951.0000 - val_accuracy: 0.0309\n",
      "Epoch 133/150\n",
      "33/33 [==============================] - 0s 5ms/step - loss: 313744.6875 - accuracy: 0.0024 - val_loss: 524299.8750 - val_accuracy: 0.0309\n",
      "Epoch 134/150\n",
      "33/33 [==============================] - 0s 4ms/step - loss: 318824.6562 - accuracy: 0.0018 - val_loss: 533968.6250 - val_accuracy: 0.0309\n",
      "Epoch 135/150\n",
      "33/33 [==============================] - 0s 4ms/step - loss: 322776.7188 - accuracy: 0.0018 - val_loss: 539055.2500 - val_accuracy: 0.0309\n",
      "Epoch 136/150\n",
      "33/33 [==============================] - 0s 4ms/step - loss: 327787.9688 - accuracy: 0.0024 - val_loss: 548764.5000 - val_accuracy: 0.0309\n",
      "Epoch 137/150\n",
      "33/33 [==============================] - 0s 4ms/step - loss: 331929.3438 - accuracy: 0.0030 - val_loss: 556627.0000 - val_accuracy: 0.0309\n",
      "Epoch 138/150\n",
      "33/33 [==============================] - 0s 4ms/step - loss: 337667.5625 - accuracy: 0.0030 - val_loss: 566597.7500 - val_accuracy: 0.0309\n",
      "Epoch 139/150\n",
      "33/33 [==============================] - 0s 4ms/step - loss: 342722.4062 - accuracy: 0.0024 - val_loss: 572840.6875 - val_accuracy: 0.0309\n",
      "Epoch 140/150\n",
      "33/33 [==============================] - 0s 5ms/step - loss: 346476.5000 - accuracy: 0.0030 - val_loss: 580118.6875 - val_accuracy: 0.0309\n",
      "Epoch 141/150\n",
      "33/33 [==============================] - 0s 4ms/step - loss: 351462.0312 - accuracy: 0.0030 - val_loss: 588561.2500 - val_accuracy: 0.0309\n",
      "Epoch 142/150\n",
      "33/33 [==============================] - 0s 4ms/step - loss: 357324.5312 - accuracy: 0.0018 - val_loss: 597974.6250 - val_accuracy: 0.0309\n",
      "Epoch 143/150\n",
      "33/33 [==============================] - 0s 4ms/step - loss: 362915.2188 - accuracy: 0.0043 - val_loss: 607043.3750 - val_accuracy: 0.0309\n",
      "Epoch 144/150\n",
      "33/33 [==============================] - 0s 4ms/step - loss: 367449.7500 - accuracy: 0.0043 - val_loss: 615023.0000 - val_accuracy: 0.0309\n",
      "Epoch 145/150\n",
      "33/33 [==============================] - 0s 4ms/step - loss: 371288.0000 - accuracy: 0.0037 - val_loss: 622587.8750 - val_accuracy: 0.0309\n",
      "Epoch 146/150\n",
      "33/33 [==============================] - 0s 5ms/step - loss: 377419.3125 - accuracy: 0.0043 - val_loss: 632004.6250 - val_accuracy: 0.0309\n",
      "Epoch 147/150\n",
      "33/33 [==============================] - 0s 4ms/step - loss: 382344.3125 - accuracy: 0.0049 - val_loss: 640546.5625 - val_accuracy: 0.0309\n",
      "Epoch 148/150\n",
      "33/33 [==============================] - 0s 4ms/step - loss: 387478.7812 - accuracy: 0.0030 - val_loss: 649244.8750 - val_accuracy: 0.0309\n",
      "Epoch 149/150\n",
      "33/33 [==============================] - 0s 5ms/step - loss: 392213.5312 - accuracy: 0.0024 - val_loss: 655181.3125 - val_accuracy: 0.0309\n",
      "Epoch 150/150\n",
      "33/33 [==============================] - 0s 5ms/step - loss: 397042.4375 - accuracy: 0.0037 - val_loss: 665767.0000 - val_accuracy: 0.0309\n"
     ]
    },
    {
     "data": {
      "text/plain": [
       "<tensorflow.python.keras.callbacks.History at 0x15c6aae16a0>"
      ]
     },
     "execution_count": 104,
     "metadata": {},
     "output_type": "execute_result"
    }
   ],
   "source": [
    "# Fit the model\n",
    "model.fit(encoded_labels, data, validation_split=0.33, epochs=150, batch_size=50)"
   ]
  },
  {
   "cell_type": "markdown",
   "metadata": {},
   "source": [
    "#### Method 2: Using KerasClassifier, KFold, and cross_val_score (in the next section)"
   ]
  },
  {
   "cell_type": "code",
   "execution_count": 108,
   "metadata": {},
   "outputs": [],
   "source": [
    "# convert integers to dummy variables (i.e. one hot encoded)\n",
    "dummy_labels = to_categorical(encoded_labels)"
   ]
  },
  {
   "cell_type": "code",
   "execution_count": 109,
   "metadata": {},
   "outputs": [],
   "source": [
    "# define baseline model\n",
    "def baseline_model():\n",
    "\t# create model\n",
    "\tmodel = Sequential()\n",
    "\tmodel.add(Dense(9, input_dim=1, activation='relu'))\n",
    "\tmodel.add(Dense(9, activation='softmax'))\n",
    "\t# Compile model\n",
    "\tmodel.compile(loss='categorical_crossentropy', optimizer='adam', metrics=['accuracy'])\n",
    "\treturn model"
   ]
  },
  {
   "cell_type": "code",
   "execution_count": 116,
   "metadata": {},
   "outputs": [],
   "source": [
    "# Create Estimator\n",
    "estimator = KerasClassifier(build_fn=baseline_model, epochs=200, batch_size=1, verbose=0)"
   ]
  },
  {
   "cell_type": "markdown",
   "metadata": {},
   "source": [
    "Debug"
   ]
  },
  {
   "cell_type": "code",
   "execution_count": null,
   "metadata": {},
   "outputs": [],
   "source": [
    "dummy_labels"
   ]
  },
  {
   "cell_type": "code",
   "execution_count": 113,
   "metadata": {},
   "outputs": [
    {
     "data": {
      "text/plain": [
       "(2450, 7)"
      ]
     },
     "execution_count": 113,
     "metadata": {},
     "output_type": "execute_result"
    }
   ],
   "source": [
    "dummy_labels.shape"
   ]
  },
  {
   "cell_type": "markdown",
   "metadata": {},
   "source": [
    "# Evaluation"
   ]
  },
  {
   "cell_type": "markdown",
   "metadata": {},
   "source": [
    "#### Evaluation for Method 2"
   ]
  },
  {
   "cell_type": "code",
   "execution_count": 111,
   "metadata": {},
   "outputs": [],
   "source": [
    "kfold = KFold(n_splits=10, shuffle=True)"
   ]
  },
  {
   "cell_type": "code",
   "execution_count": 117,
   "metadata": {},
   "outputs": [
    {
     "ename": "ValueError",
     "evalue": "in user code:\n\n    C:\\Users\\aqcru\\miniconda3\\envs\\tf\\lib\\site-packages\\tensorflow\\python\\keras\\engine\\training.py:855 train_function  *\n        return step_function(self, iterator)\n    C:\\Users\\aqcru\\miniconda3\\envs\\tf\\lib\\site-packages\\tensorflow\\python\\keras\\engine\\training.py:845 step_function  **\n        outputs = model.distribute_strategy.run(run_step, args=(data,))\n    C:\\Users\\aqcru\\miniconda3\\envs\\tf\\lib\\site-packages\\tensorflow\\python\\distribute\\distribute_lib.py:1285 run\n        return self._extended.call_for_each_replica(fn, args=args, kwargs=kwargs)\n    C:\\Users\\aqcru\\miniconda3\\envs\\tf\\lib\\site-packages\\tensorflow\\python\\distribute\\distribute_lib.py:2833 call_for_each_replica\n        return self._call_for_each_replica(fn, args, kwargs)\n    C:\\Users\\aqcru\\miniconda3\\envs\\tf\\lib\\site-packages\\tensorflow\\python\\distribute\\distribute_lib.py:3608 _call_for_each_replica\n        return fn(*args, **kwargs)\n    C:\\Users\\aqcru\\miniconda3\\envs\\tf\\lib\\site-packages\\tensorflow\\python\\keras\\engine\\training.py:838 run_step  **\n        outputs = model.train_step(data)\n    C:\\Users\\aqcru\\miniconda3\\envs\\tf\\lib\\site-packages\\tensorflow\\python\\keras\\engine\\training.py:795 train_step\n        y_pred = self(x, training=True)\n    C:\\Users\\aqcru\\miniconda3\\envs\\tf\\lib\\site-packages\\tensorflow\\python\\keras\\engine\\base_layer.py:1013 __call__\n        input_spec.assert_input_compatibility(self.input_spec, inputs, self.name)\n    C:\\Users\\aqcru\\miniconda3\\envs\\tf\\lib\\site-packages\\tensorflow\\python\\keras\\engine\\input_spec.py:251 assert_input_compatibility\n        raise ValueError(\n\n    ValueError: Input 0 of layer sequential_24 is incompatible with the layer: expected axis -1 of input shape to have value 1 but received input with shape (1, 9)\n",
     "output_type": "error",
     "traceback": [
      "\u001b[1;31m---------------------------------------------------------------------------\u001b[0m",
      "\u001b[1;31mValueError\u001b[0m                                Traceback (most recent call last)",
      "\u001b[1;32m~\\AppData\\Local\\Temp/ipykernel_20316/3496042500.py\u001b[0m in \u001b[0;36m<module>\u001b[1;34m\u001b[0m\n\u001b[1;32m----> 1\u001b[1;33m \u001b[0mresults\u001b[0m \u001b[1;33m=\u001b[0m \u001b[0mcross_val_score\u001b[0m\u001b[1;33m(\u001b[0m\u001b[0mestimator\u001b[0m\u001b[1;33m,\u001b[0m \u001b[0mdata\u001b[0m\u001b[1;33m,\u001b[0m \u001b[0mdummy_labels\u001b[0m\u001b[1;33m,\u001b[0m \u001b[0mcv\u001b[0m\u001b[1;33m=\u001b[0m\u001b[0mkfold\u001b[0m\u001b[1;33m,\u001b[0m \u001b[0merror_score\u001b[0m\u001b[1;33m=\u001b[0m\u001b[1;34m'raise'\u001b[0m\u001b[1;33m)\u001b[0m\u001b[1;33m\u001b[0m\u001b[1;33m\u001b[0m\u001b[0m\n\u001b[0m\u001b[0;32m      2\u001b[0m \u001b[0mprint\u001b[0m\u001b[1;33m(\u001b[0m\u001b[1;34m\"Accuracy: %.2f%% (%.2f%%)\"\u001b[0m \u001b[1;33m%\u001b[0m \u001b[1;33m(\u001b[0m\u001b[0mresults\u001b[0m\u001b[1;33m.\u001b[0m\u001b[0mmean\u001b[0m\u001b[1;33m(\u001b[0m\u001b[1;33m)\u001b[0m\u001b[1;33m*\u001b[0m\u001b[1;36m100\u001b[0m\u001b[1;33m,\u001b[0m \u001b[0mresults\u001b[0m\u001b[1;33m.\u001b[0m\u001b[0mstd\u001b[0m\u001b[1;33m(\u001b[0m\u001b[1;33m)\u001b[0m\u001b[1;33m*\u001b[0m\u001b[1;36m100\u001b[0m\u001b[1;33m)\u001b[0m\u001b[1;33m)\u001b[0m\u001b[1;33m\u001b[0m\u001b[1;33m\u001b[0m\u001b[0m\n",
      "\u001b[1;32m~\\miniconda3\\envs\\tf\\lib\\site-packages\\sklearn\\model_selection\\_validation.py\u001b[0m in \u001b[0;36mcross_val_score\u001b[1;34m(estimator, X, y, groups, scoring, cv, n_jobs, verbose, fit_params, pre_dispatch, error_score)\u001b[0m\n\u001b[0;32m    508\u001b[0m     \u001b[0mscorer\u001b[0m \u001b[1;33m=\u001b[0m \u001b[0mcheck_scoring\u001b[0m\u001b[1;33m(\u001b[0m\u001b[0mestimator\u001b[0m\u001b[1;33m,\u001b[0m \u001b[0mscoring\u001b[0m\u001b[1;33m=\u001b[0m\u001b[0mscoring\u001b[0m\u001b[1;33m)\u001b[0m\u001b[1;33m\u001b[0m\u001b[1;33m\u001b[0m\u001b[0m\n\u001b[0;32m    509\u001b[0m \u001b[1;33m\u001b[0m\u001b[0m\n\u001b[1;32m--> 510\u001b[1;33m     cv_results = cross_validate(\n\u001b[0m\u001b[0;32m    511\u001b[0m         \u001b[0mestimator\u001b[0m\u001b[1;33m=\u001b[0m\u001b[0mestimator\u001b[0m\u001b[1;33m,\u001b[0m\u001b[1;33m\u001b[0m\u001b[1;33m\u001b[0m\u001b[0m\n\u001b[0;32m    512\u001b[0m         \u001b[0mX\u001b[0m\u001b[1;33m=\u001b[0m\u001b[0mX\u001b[0m\u001b[1;33m,\u001b[0m\u001b[1;33m\u001b[0m\u001b[1;33m\u001b[0m\u001b[0m\n",
      "\u001b[1;32m~\\miniconda3\\envs\\tf\\lib\\site-packages\\sklearn\\model_selection\\_validation.py\u001b[0m in \u001b[0;36mcross_validate\u001b[1;34m(estimator, X, y, groups, scoring, cv, n_jobs, verbose, fit_params, pre_dispatch, return_train_score, return_estimator, error_score)\u001b[0m\n\u001b[0;32m    265\u001b[0m     \u001b[1;31m# independent, and that it is pickle-able.\u001b[0m\u001b[1;33m\u001b[0m\u001b[1;33m\u001b[0m\u001b[1;33m\u001b[0m\u001b[0m\n\u001b[0;32m    266\u001b[0m     \u001b[0mparallel\u001b[0m \u001b[1;33m=\u001b[0m \u001b[0mParallel\u001b[0m\u001b[1;33m(\u001b[0m\u001b[0mn_jobs\u001b[0m\u001b[1;33m=\u001b[0m\u001b[0mn_jobs\u001b[0m\u001b[1;33m,\u001b[0m \u001b[0mverbose\u001b[0m\u001b[1;33m=\u001b[0m\u001b[0mverbose\u001b[0m\u001b[1;33m,\u001b[0m \u001b[0mpre_dispatch\u001b[0m\u001b[1;33m=\u001b[0m\u001b[0mpre_dispatch\u001b[0m\u001b[1;33m)\u001b[0m\u001b[1;33m\u001b[0m\u001b[1;33m\u001b[0m\u001b[0m\n\u001b[1;32m--> 267\u001b[1;33m     results = parallel(\n\u001b[0m\u001b[0;32m    268\u001b[0m         delayed(_fit_and_score)(\n\u001b[0;32m    269\u001b[0m             \u001b[0mclone\u001b[0m\u001b[1;33m(\u001b[0m\u001b[0mestimator\u001b[0m\u001b[1;33m)\u001b[0m\u001b[1;33m,\u001b[0m\u001b[1;33m\u001b[0m\u001b[1;33m\u001b[0m\u001b[0m\n",
      "\u001b[1;32m~\\miniconda3\\envs\\tf\\lib\\site-packages\\joblib\\parallel.py\u001b[0m in \u001b[0;36m__call__\u001b[1;34m(self, iterable)\u001b[0m\n\u001b[0;32m   1046\u001b[0m             \u001b[1;31m# remaining jobs.\u001b[0m\u001b[1;33m\u001b[0m\u001b[1;33m\u001b[0m\u001b[1;33m\u001b[0m\u001b[0m\n\u001b[0;32m   1047\u001b[0m             \u001b[0mself\u001b[0m\u001b[1;33m.\u001b[0m\u001b[0m_iterating\u001b[0m \u001b[1;33m=\u001b[0m \u001b[1;32mFalse\u001b[0m\u001b[1;33m\u001b[0m\u001b[1;33m\u001b[0m\u001b[0m\n\u001b[1;32m-> 1048\u001b[1;33m             \u001b[1;32mif\u001b[0m \u001b[0mself\u001b[0m\u001b[1;33m.\u001b[0m\u001b[0mdispatch_one_batch\u001b[0m\u001b[1;33m(\u001b[0m\u001b[0miterator\u001b[0m\u001b[1;33m)\u001b[0m\u001b[1;33m:\u001b[0m\u001b[1;33m\u001b[0m\u001b[1;33m\u001b[0m\u001b[0m\n\u001b[0m\u001b[0;32m   1049\u001b[0m                 \u001b[0mself\u001b[0m\u001b[1;33m.\u001b[0m\u001b[0m_iterating\u001b[0m \u001b[1;33m=\u001b[0m \u001b[0mself\u001b[0m\u001b[1;33m.\u001b[0m\u001b[0m_original_iterator\u001b[0m \u001b[1;32mis\u001b[0m \u001b[1;32mnot\u001b[0m \u001b[1;32mNone\u001b[0m\u001b[1;33m\u001b[0m\u001b[1;33m\u001b[0m\u001b[0m\n\u001b[0;32m   1050\u001b[0m \u001b[1;33m\u001b[0m\u001b[0m\n",
      "\u001b[1;32m~\\miniconda3\\envs\\tf\\lib\\site-packages\\joblib\\parallel.py\u001b[0m in \u001b[0;36mdispatch_one_batch\u001b[1;34m(self, iterator)\u001b[0m\n\u001b[0;32m    864\u001b[0m                 \u001b[1;32mreturn\u001b[0m \u001b[1;32mFalse\u001b[0m\u001b[1;33m\u001b[0m\u001b[1;33m\u001b[0m\u001b[0m\n\u001b[0;32m    865\u001b[0m             \u001b[1;32melse\u001b[0m\u001b[1;33m:\u001b[0m\u001b[1;33m\u001b[0m\u001b[1;33m\u001b[0m\u001b[0m\n\u001b[1;32m--> 866\u001b[1;33m                 \u001b[0mself\u001b[0m\u001b[1;33m.\u001b[0m\u001b[0m_dispatch\u001b[0m\u001b[1;33m(\u001b[0m\u001b[0mtasks\u001b[0m\u001b[1;33m)\u001b[0m\u001b[1;33m\u001b[0m\u001b[1;33m\u001b[0m\u001b[0m\n\u001b[0m\u001b[0;32m    867\u001b[0m                 \u001b[1;32mreturn\u001b[0m \u001b[1;32mTrue\u001b[0m\u001b[1;33m\u001b[0m\u001b[1;33m\u001b[0m\u001b[0m\n\u001b[0;32m    868\u001b[0m \u001b[1;33m\u001b[0m\u001b[0m\n",
      "\u001b[1;32m~\\miniconda3\\envs\\tf\\lib\\site-packages\\joblib\\parallel.py\u001b[0m in \u001b[0;36m_dispatch\u001b[1;34m(self, batch)\u001b[0m\n\u001b[0;32m    782\u001b[0m         \u001b[1;32mwith\u001b[0m \u001b[0mself\u001b[0m\u001b[1;33m.\u001b[0m\u001b[0m_lock\u001b[0m\u001b[1;33m:\u001b[0m\u001b[1;33m\u001b[0m\u001b[1;33m\u001b[0m\u001b[0m\n\u001b[0;32m    783\u001b[0m             \u001b[0mjob_idx\u001b[0m \u001b[1;33m=\u001b[0m \u001b[0mlen\u001b[0m\u001b[1;33m(\u001b[0m\u001b[0mself\u001b[0m\u001b[1;33m.\u001b[0m\u001b[0m_jobs\u001b[0m\u001b[1;33m)\u001b[0m\u001b[1;33m\u001b[0m\u001b[1;33m\u001b[0m\u001b[0m\n\u001b[1;32m--> 784\u001b[1;33m             \u001b[0mjob\u001b[0m \u001b[1;33m=\u001b[0m \u001b[0mself\u001b[0m\u001b[1;33m.\u001b[0m\u001b[0m_backend\u001b[0m\u001b[1;33m.\u001b[0m\u001b[0mapply_async\u001b[0m\u001b[1;33m(\u001b[0m\u001b[0mbatch\u001b[0m\u001b[1;33m,\u001b[0m \u001b[0mcallback\u001b[0m\u001b[1;33m=\u001b[0m\u001b[0mcb\u001b[0m\u001b[1;33m)\u001b[0m\u001b[1;33m\u001b[0m\u001b[1;33m\u001b[0m\u001b[0m\n\u001b[0m\u001b[0;32m    785\u001b[0m             \u001b[1;31m# A job can complete so quickly than its callback is\u001b[0m\u001b[1;33m\u001b[0m\u001b[1;33m\u001b[0m\u001b[1;33m\u001b[0m\u001b[0m\n\u001b[0;32m    786\u001b[0m             \u001b[1;31m# called before we get here, causing self._jobs to\u001b[0m\u001b[1;33m\u001b[0m\u001b[1;33m\u001b[0m\u001b[1;33m\u001b[0m\u001b[0m\n",
      "\u001b[1;32m~\\miniconda3\\envs\\tf\\lib\\site-packages\\joblib\\_parallel_backends.py\u001b[0m in \u001b[0;36mapply_async\u001b[1;34m(self, func, callback)\u001b[0m\n\u001b[0;32m    206\u001b[0m     \u001b[1;32mdef\u001b[0m \u001b[0mapply_async\u001b[0m\u001b[1;33m(\u001b[0m\u001b[0mself\u001b[0m\u001b[1;33m,\u001b[0m \u001b[0mfunc\u001b[0m\u001b[1;33m,\u001b[0m \u001b[0mcallback\u001b[0m\u001b[1;33m=\u001b[0m\u001b[1;32mNone\u001b[0m\u001b[1;33m)\u001b[0m\u001b[1;33m:\u001b[0m\u001b[1;33m\u001b[0m\u001b[1;33m\u001b[0m\u001b[0m\n\u001b[0;32m    207\u001b[0m         \u001b[1;34m\"\"\"Schedule a func to be run\"\"\"\u001b[0m\u001b[1;33m\u001b[0m\u001b[1;33m\u001b[0m\u001b[0m\n\u001b[1;32m--> 208\u001b[1;33m         \u001b[0mresult\u001b[0m \u001b[1;33m=\u001b[0m \u001b[0mImmediateResult\u001b[0m\u001b[1;33m(\u001b[0m\u001b[0mfunc\u001b[0m\u001b[1;33m)\u001b[0m\u001b[1;33m\u001b[0m\u001b[1;33m\u001b[0m\u001b[0m\n\u001b[0m\u001b[0;32m    209\u001b[0m         \u001b[1;32mif\u001b[0m \u001b[0mcallback\u001b[0m\u001b[1;33m:\u001b[0m\u001b[1;33m\u001b[0m\u001b[1;33m\u001b[0m\u001b[0m\n\u001b[0;32m    210\u001b[0m             \u001b[0mcallback\u001b[0m\u001b[1;33m(\u001b[0m\u001b[0mresult\u001b[0m\u001b[1;33m)\u001b[0m\u001b[1;33m\u001b[0m\u001b[1;33m\u001b[0m\u001b[0m\n",
      "\u001b[1;32m~\\miniconda3\\envs\\tf\\lib\\site-packages\\joblib\\_parallel_backends.py\u001b[0m in \u001b[0;36m__init__\u001b[1;34m(self, batch)\u001b[0m\n\u001b[0;32m    570\u001b[0m         \u001b[1;31m# Don't delay the application, to avoid keeping the input\u001b[0m\u001b[1;33m\u001b[0m\u001b[1;33m\u001b[0m\u001b[1;33m\u001b[0m\u001b[0m\n\u001b[0;32m    571\u001b[0m         \u001b[1;31m# arguments in memory\u001b[0m\u001b[1;33m\u001b[0m\u001b[1;33m\u001b[0m\u001b[1;33m\u001b[0m\u001b[0m\n\u001b[1;32m--> 572\u001b[1;33m         \u001b[0mself\u001b[0m\u001b[1;33m.\u001b[0m\u001b[0mresults\u001b[0m \u001b[1;33m=\u001b[0m \u001b[0mbatch\u001b[0m\u001b[1;33m(\u001b[0m\u001b[1;33m)\u001b[0m\u001b[1;33m\u001b[0m\u001b[1;33m\u001b[0m\u001b[0m\n\u001b[0m\u001b[0;32m    573\u001b[0m \u001b[1;33m\u001b[0m\u001b[0m\n\u001b[0;32m    574\u001b[0m     \u001b[1;32mdef\u001b[0m \u001b[0mget\u001b[0m\u001b[1;33m(\u001b[0m\u001b[0mself\u001b[0m\u001b[1;33m)\u001b[0m\u001b[1;33m:\u001b[0m\u001b[1;33m\u001b[0m\u001b[1;33m\u001b[0m\u001b[0m\n",
      "\u001b[1;32m~\\miniconda3\\envs\\tf\\lib\\site-packages\\joblib\\parallel.py\u001b[0m in \u001b[0;36m__call__\u001b[1;34m(self)\u001b[0m\n\u001b[0;32m    260\u001b[0m         \u001b[1;31m# change the default number of processes to -1\u001b[0m\u001b[1;33m\u001b[0m\u001b[1;33m\u001b[0m\u001b[1;33m\u001b[0m\u001b[0m\n\u001b[0;32m    261\u001b[0m         \u001b[1;32mwith\u001b[0m \u001b[0mparallel_backend\u001b[0m\u001b[1;33m(\u001b[0m\u001b[0mself\u001b[0m\u001b[1;33m.\u001b[0m\u001b[0m_backend\u001b[0m\u001b[1;33m,\u001b[0m \u001b[0mn_jobs\u001b[0m\u001b[1;33m=\u001b[0m\u001b[0mself\u001b[0m\u001b[1;33m.\u001b[0m\u001b[0m_n_jobs\u001b[0m\u001b[1;33m)\u001b[0m\u001b[1;33m:\u001b[0m\u001b[1;33m\u001b[0m\u001b[1;33m\u001b[0m\u001b[0m\n\u001b[1;32m--> 262\u001b[1;33m             return [func(*args, **kwargs)\n\u001b[0m\u001b[0;32m    263\u001b[0m                     for func, args, kwargs in self.items]\n\u001b[0;32m    264\u001b[0m \u001b[1;33m\u001b[0m\u001b[0m\n",
      "\u001b[1;32m~\\miniconda3\\envs\\tf\\lib\\site-packages\\joblib\\parallel.py\u001b[0m in \u001b[0;36m<listcomp>\u001b[1;34m(.0)\u001b[0m\n\u001b[0;32m    260\u001b[0m         \u001b[1;31m# change the default number of processes to -1\u001b[0m\u001b[1;33m\u001b[0m\u001b[1;33m\u001b[0m\u001b[1;33m\u001b[0m\u001b[0m\n\u001b[0;32m    261\u001b[0m         \u001b[1;32mwith\u001b[0m \u001b[0mparallel_backend\u001b[0m\u001b[1;33m(\u001b[0m\u001b[0mself\u001b[0m\u001b[1;33m.\u001b[0m\u001b[0m_backend\u001b[0m\u001b[1;33m,\u001b[0m \u001b[0mn_jobs\u001b[0m\u001b[1;33m=\u001b[0m\u001b[0mself\u001b[0m\u001b[1;33m.\u001b[0m\u001b[0m_n_jobs\u001b[0m\u001b[1;33m)\u001b[0m\u001b[1;33m:\u001b[0m\u001b[1;33m\u001b[0m\u001b[1;33m\u001b[0m\u001b[0m\n\u001b[1;32m--> 262\u001b[1;33m             return [func(*args, **kwargs)\n\u001b[0m\u001b[0;32m    263\u001b[0m                     for func, args, kwargs in self.items]\n\u001b[0;32m    264\u001b[0m \u001b[1;33m\u001b[0m\u001b[0m\n",
      "\u001b[1;32m~\\miniconda3\\envs\\tf\\lib\\site-packages\\sklearn\\utils\\fixes.py\u001b[0m in \u001b[0;36m__call__\u001b[1;34m(self, *args, **kwargs)\u001b[0m\n\u001b[0;32m    209\u001b[0m     \u001b[1;32mdef\u001b[0m \u001b[0m__call__\u001b[0m\u001b[1;33m(\u001b[0m\u001b[0mself\u001b[0m\u001b[1;33m,\u001b[0m \u001b[1;33m*\u001b[0m\u001b[0margs\u001b[0m\u001b[1;33m,\u001b[0m \u001b[1;33m**\u001b[0m\u001b[0mkwargs\u001b[0m\u001b[1;33m)\u001b[0m\u001b[1;33m:\u001b[0m\u001b[1;33m\u001b[0m\u001b[1;33m\u001b[0m\u001b[0m\n\u001b[0;32m    210\u001b[0m         \u001b[1;32mwith\u001b[0m \u001b[0mconfig_context\u001b[0m\u001b[1;33m(\u001b[0m\u001b[1;33m**\u001b[0m\u001b[0mself\u001b[0m\u001b[1;33m.\u001b[0m\u001b[0mconfig\u001b[0m\u001b[1;33m)\u001b[0m\u001b[1;33m:\u001b[0m\u001b[1;33m\u001b[0m\u001b[1;33m\u001b[0m\u001b[0m\n\u001b[1;32m--> 211\u001b[1;33m             \u001b[1;32mreturn\u001b[0m \u001b[0mself\u001b[0m\u001b[1;33m.\u001b[0m\u001b[0mfunction\u001b[0m\u001b[1;33m(\u001b[0m\u001b[1;33m*\u001b[0m\u001b[0margs\u001b[0m\u001b[1;33m,\u001b[0m \u001b[1;33m**\u001b[0m\u001b[0mkwargs\u001b[0m\u001b[1;33m)\u001b[0m\u001b[1;33m\u001b[0m\u001b[1;33m\u001b[0m\u001b[0m\n\u001b[0m\u001b[0;32m    212\u001b[0m \u001b[1;33m\u001b[0m\u001b[0m\n\u001b[0;32m    213\u001b[0m \u001b[1;33m\u001b[0m\u001b[0m\n",
      "\u001b[1;32m~\\miniconda3\\envs\\tf\\lib\\site-packages\\sklearn\\model_selection\\_validation.py\u001b[0m in \u001b[0;36m_fit_and_score\u001b[1;34m(estimator, X, y, scorer, train, test, verbose, parameters, fit_params, return_train_score, return_parameters, return_n_test_samples, return_times, return_estimator, split_progress, candidate_progress, error_score)\u001b[0m\n\u001b[0;32m    679\u001b[0m             \u001b[0mestimator\u001b[0m\u001b[1;33m.\u001b[0m\u001b[0mfit\u001b[0m\u001b[1;33m(\u001b[0m\u001b[0mX_train\u001b[0m\u001b[1;33m,\u001b[0m \u001b[1;33m**\u001b[0m\u001b[0mfit_params\u001b[0m\u001b[1;33m)\u001b[0m\u001b[1;33m\u001b[0m\u001b[1;33m\u001b[0m\u001b[0m\n\u001b[0;32m    680\u001b[0m         \u001b[1;32melse\u001b[0m\u001b[1;33m:\u001b[0m\u001b[1;33m\u001b[0m\u001b[1;33m\u001b[0m\u001b[0m\n\u001b[1;32m--> 681\u001b[1;33m             \u001b[0mestimator\u001b[0m\u001b[1;33m.\u001b[0m\u001b[0mfit\u001b[0m\u001b[1;33m(\u001b[0m\u001b[0mX_train\u001b[0m\u001b[1;33m,\u001b[0m \u001b[0my_train\u001b[0m\u001b[1;33m,\u001b[0m \u001b[1;33m**\u001b[0m\u001b[0mfit_params\u001b[0m\u001b[1;33m)\u001b[0m\u001b[1;33m\u001b[0m\u001b[1;33m\u001b[0m\u001b[0m\n\u001b[0m\u001b[0;32m    682\u001b[0m \u001b[1;33m\u001b[0m\u001b[0m\n\u001b[0;32m    683\u001b[0m     \u001b[1;32mexcept\u001b[0m \u001b[0mException\u001b[0m\u001b[1;33m:\u001b[0m\u001b[1;33m\u001b[0m\u001b[1;33m\u001b[0m\u001b[0m\n",
      "\u001b[1;32m~\\miniconda3\\envs\\tf\\lib\\site-packages\\tensorflow\\python\\keras\\wrappers\\scikit_learn.py\u001b[0m in \u001b[0;36mfit\u001b[1;34m(self, x, y, **kwargs)\u001b[0m\n\u001b[0;32m    218\u001b[0m       \u001b[1;32mraise\u001b[0m \u001b[0mValueError\u001b[0m\u001b[1;33m(\u001b[0m\u001b[1;34m'Invalid shape for y: '\u001b[0m \u001b[1;33m+\u001b[0m \u001b[0mstr\u001b[0m\u001b[1;33m(\u001b[0m\u001b[0my\u001b[0m\u001b[1;33m.\u001b[0m\u001b[0mshape\u001b[0m\u001b[1;33m)\u001b[0m\u001b[1;33m)\u001b[0m\u001b[1;33m\u001b[0m\u001b[1;33m\u001b[0m\u001b[0m\n\u001b[0;32m    219\u001b[0m     \u001b[0mself\u001b[0m\u001b[1;33m.\u001b[0m\u001b[0mn_classes_\u001b[0m \u001b[1;33m=\u001b[0m \u001b[0mlen\u001b[0m\u001b[1;33m(\u001b[0m\u001b[0mself\u001b[0m\u001b[1;33m.\u001b[0m\u001b[0mclasses_\u001b[0m\u001b[1;33m)\u001b[0m\u001b[1;33m\u001b[0m\u001b[1;33m\u001b[0m\u001b[0m\n\u001b[1;32m--> 220\u001b[1;33m     \u001b[1;32mreturn\u001b[0m \u001b[0msuper\u001b[0m\u001b[1;33m(\u001b[0m\u001b[0mKerasClassifier\u001b[0m\u001b[1;33m,\u001b[0m \u001b[0mself\u001b[0m\u001b[1;33m)\u001b[0m\u001b[1;33m.\u001b[0m\u001b[0mfit\u001b[0m\u001b[1;33m(\u001b[0m\u001b[0mx\u001b[0m\u001b[1;33m,\u001b[0m \u001b[0my\u001b[0m\u001b[1;33m,\u001b[0m \u001b[1;33m**\u001b[0m\u001b[0mkwargs\u001b[0m\u001b[1;33m)\u001b[0m\u001b[1;33m\u001b[0m\u001b[1;33m\u001b[0m\u001b[0m\n\u001b[0m\u001b[0;32m    221\u001b[0m \u001b[1;33m\u001b[0m\u001b[0m\n\u001b[0;32m    222\u001b[0m   \u001b[1;32mdef\u001b[0m \u001b[0mpredict\u001b[0m\u001b[1;33m(\u001b[0m\u001b[0mself\u001b[0m\u001b[1;33m,\u001b[0m \u001b[0mx\u001b[0m\u001b[1;33m,\u001b[0m \u001b[1;33m**\u001b[0m\u001b[0mkwargs\u001b[0m\u001b[1;33m)\u001b[0m\u001b[1;33m:\u001b[0m\u001b[1;33m\u001b[0m\u001b[1;33m\u001b[0m\u001b[0m\n",
      "\u001b[1;32m~\\miniconda3\\envs\\tf\\lib\\site-packages\\tensorflow\\python\\keras\\wrappers\\scikit_learn.py\u001b[0m in \u001b[0;36mfit\u001b[1;34m(self, x, y, **kwargs)\u001b[0m\n\u001b[0;32m    161\u001b[0m     \u001b[0mfit_args\u001b[0m\u001b[1;33m.\u001b[0m\u001b[0mupdate\u001b[0m\u001b[1;33m(\u001b[0m\u001b[0mkwargs\u001b[0m\u001b[1;33m)\u001b[0m\u001b[1;33m\u001b[0m\u001b[1;33m\u001b[0m\u001b[0m\n\u001b[0;32m    162\u001b[0m \u001b[1;33m\u001b[0m\u001b[0m\n\u001b[1;32m--> 163\u001b[1;33m     \u001b[0mhistory\u001b[0m \u001b[1;33m=\u001b[0m \u001b[0mself\u001b[0m\u001b[1;33m.\u001b[0m\u001b[0mmodel\u001b[0m\u001b[1;33m.\u001b[0m\u001b[0mfit\u001b[0m\u001b[1;33m(\u001b[0m\u001b[0mx\u001b[0m\u001b[1;33m,\u001b[0m \u001b[0my\u001b[0m\u001b[1;33m,\u001b[0m \u001b[1;33m**\u001b[0m\u001b[0mfit_args\u001b[0m\u001b[1;33m)\u001b[0m\u001b[1;33m\u001b[0m\u001b[1;33m\u001b[0m\u001b[0m\n\u001b[0m\u001b[0;32m    164\u001b[0m \u001b[1;33m\u001b[0m\u001b[0m\n\u001b[0;32m    165\u001b[0m     \u001b[1;32mreturn\u001b[0m \u001b[0mhistory\u001b[0m\u001b[1;33m\u001b[0m\u001b[1;33m\u001b[0m\u001b[0m\n",
      "\u001b[1;32m~\\miniconda3\\envs\\tf\\lib\\site-packages\\tensorflow\\python\\keras\\engine\\training.py\u001b[0m in \u001b[0;36mfit\u001b[1;34m(self, x, y, batch_size, epochs, verbose, callbacks, validation_split, validation_data, shuffle, class_weight, sample_weight, initial_epoch, steps_per_epoch, validation_steps, validation_batch_size, validation_freq, max_queue_size, workers, use_multiprocessing)\u001b[0m\n\u001b[0;32m   1181\u001b[0m                 _r=1):\n\u001b[0;32m   1182\u001b[0m               \u001b[0mcallbacks\u001b[0m\u001b[1;33m.\u001b[0m\u001b[0mon_train_batch_begin\u001b[0m\u001b[1;33m(\u001b[0m\u001b[0mstep\u001b[0m\u001b[1;33m)\u001b[0m\u001b[1;33m\u001b[0m\u001b[1;33m\u001b[0m\u001b[0m\n\u001b[1;32m-> 1183\u001b[1;33m               \u001b[0mtmp_logs\u001b[0m \u001b[1;33m=\u001b[0m \u001b[0mself\u001b[0m\u001b[1;33m.\u001b[0m\u001b[0mtrain_function\u001b[0m\u001b[1;33m(\u001b[0m\u001b[0miterator\u001b[0m\u001b[1;33m)\u001b[0m\u001b[1;33m\u001b[0m\u001b[1;33m\u001b[0m\u001b[0m\n\u001b[0m\u001b[0;32m   1184\u001b[0m               \u001b[1;32mif\u001b[0m \u001b[0mdata_handler\u001b[0m\u001b[1;33m.\u001b[0m\u001b[0mshould_sync\u001b[0m\u001b[1;33m:\u001b[0m\u001b[1;33m\u001b[0m\u001b[1;33m\u001b[0m\u001b[0m\n\u001b[0;32m   1185\u001b[0m                 \u001b[0mcontext\u001b[0m\u001b[1;33m.\u001b[0m\u001b[0masync_wait\u001b[0m\u001b[1;33m(\u001b[0m\u001b[1;33m)\u001b[0m\u001b[1;33m\u001b[0m\u001b[1;33m\u001b[0m\u001b[0m\n",
      "\u001b[1;32m~\\miniconda3\\envs\\tf\\lib\\site-packages\\tensorflow\\python\\eager\\def_function.py\u001b[0m in \u001b[0;36m__call__\u001b[1;34m(self, *args, **kwds)\u001b[0m\n\u001b[0;32m    887\u001b[0m \u001b[1;33m\u001b[0m\u001b[0m\n\u001b[0;32m    888\u001b[0m       \u001b[1;32mwith\u001b[0m \u001b[0mOptionalXlaContext\u001b[0m\u001b[1;33m(\u001b[0m\u001b[0mself\u001b[0m\u001b[1;33m.\u001b[0m\u001b[0m_jit_compile\u001b[0m\u001b[1;33m)\u001b[0m\u001b[1;33m:\u001b[0m\u001b[1;33m\u001b[0m\u001b[1;33m\u001b[0m\u001b[0m\n\u001b[1;32m--> 889\u001b[1;33m         \u001b[0mresult\u001b[0m \u001b[1;33m=\u001b[0m \u001b[0mself\u001b[0m\u001b[1;33m.\u001b[0m\u001b[0m_call\u001b[0m\u001b[1;33m(\u001b[0m\u001b[1;33m*\u001b[0m\u001b[0margs\u001b[0m\u001b[1;33m,\u001b[0m \u001b[1;33m**\u001b[0m\u001b[0mkwds\u001b[0m\u001b[1;33m)\u001b[0m\u001b[1;33m\u001b[0m\u001b[1;33m\u001b[0m\u001b[0m\n\u001b[0m\u001b[0;32m    890\u001b[0m \u001b[1;33m\u001b[0m\u001b[0m\n\u001b[0;32m    891\u001b[0m       \u001b[0mnew_tracing_count\u001b[0m \u001b[1;33m=\u001b[0m \u001b[0mself\u001b[0m\u001b[1;33m.\u001b[0m\u001b[0mexperimental_get_tracing_count\u001b[0m\u001b[1;33m(\u001b[0m\u001b[1;33m)\u001b[0m\u001b[1;33m\u001b[0m\u001b[1;33m\u001b[0m\u001b[0m\n",
      "\u001b[1;32m~\\miniconda3\\envs\\tf\\lib\\site-packages\\tensorflow\\python\\eager\\def_function.py\u001b[0m in \u001b[0;36m_call\u001b[1;34m(self, *args, **kwds)\u001b[0m\n\u001b[0;32m    931\u001b[0m       \u001b[1;31m# This is the first call of __call__, so we have to initialize.\u001b[0m\u001b[1;33m\u001b[0m\u001b[1;33m\u001b[0m\u001b[1;33m\u001b[0m\u001b[0m\n\u001b[0;32m    932\u001b[0m       \u001b[0minitializers\u001b[0m \u001b[1;33m=\u001b[0m \u001b[1;33m[\u001b[0m\u001b[1;33m]\u001b[0m\u001b[1;33m\u001b[0m\u001b[1;33m\u001b[0m\u001b[0m\n\u001b[1;32m--> 933\u001b[1;33m       \u001b[0mself\u001b[0m\u001b[1;33m.\u001b[0m\u001b[0m_initialize\u001b[0m\u001b[1;33m(\u001b[0m\u001b[0margs\u001b[0m\u001b[1;33m,\u001b[0m \u001b[0mkwds\u001b[0m\u001b[1;33m,\u001b[0m \u001b[0madd_initializers_to\u001b[0m\u001b[1;33m=\u001b[0m\u001b[0minitializers\u001b[0m\u001b[1;33m)\u001b[0m\u001b[1;33m\u001b[0m\u001b[1;33m\u001b[0m\u001b[0m\n\u001b[0m\u001b[0;32m    934\u001b[0m     \u001b[1;32mfinally\u001b[0m\u001b[1;33m:\u001b[0m\u001b[1;33m\u001b[0m\u001b[1;33m\u001b[0m\u001b[0m\n\u001b[0;32m    935\u001b[0m       \u001b[1;31m# At this point we know that the initialization is complete (or less\u001b[0m\u001b[1;33m\u001b[0m\u001b[1;33m\u001b[0m\u001b[1;33m\u001b[0m\u001b[0m\n",
      "\u001b[1;32m~\\miniconda3\\envs\\tf\\lib\\site-packages\\tensorflow\\python\\eager\\def_function.py\u001b[0m in \u001b[0;36m_initialize\u001b[1;34m(self, args, kwds, add_initializers_to)\u001b[0m\n\u001b[0;32m    761\u001b[0m     \u001b[0mself\u001b[0m\u001b[1;33m.\u001b[0m\u001b[0m_graph_deleter\u001b[0m \u001b[1;33m=\u001b[0m \u001b[0mFunctionDeleter\u001b[0m\u001b[1;33m(\u001b[0m\u001b[0mself\u001b[0m\u001b[1;33m.\u001b[0m\u001b[0m_lifted_initializer_graph\u001b[0m\u001b[1;33m)\u001b[0m\u001b[1;33m\u001b[0m\u001b[1;33m\u001b[0m\u001b[0m\n\u001b[0;32m    762\u001b[0m     self._concrete_stateful_fn = (\n\u001b[1;32m--> 763\u001b[1;33m         self._stateful_fn._get_concrete_function_internal_garbage_collected(  # pylint: disable=protected-access\n\u001b[0m\u001b[0;32m    764\u001b[0m             *args, **kwds))\n\u001b[0;32m    765\u001b[0m \u001b[1;33m\u001b[0m\u001b[0m\n",
      "\u001b[1;32m~\\miniconda3\\envs\\tf\\lib\\site-packages\\tensorflow\\python\\eager\\function.py\u001b[0m in \u001b[0;36m_get_concrete_function_internal_garbage_collected\u001b[1;34m(self, *args, **kwargs)\u001b[0m\n\u001b[0;32m   3048\u001b[0m       \u001b[0margs\u001b[0m\u001b[1;33m,\u001b[0m \u001b[0mkwargs\u001b[0m \u001b[1;33m=\u001b[0m \u001b[1;32mNone\u001b[0m\u001b[1;33m,\u001b[0m \u001b[1;32mNone\u001b[0m\u001b[1;33m\u001b[0m\u001b[1;33m\u001b[0m\u001b[0m\n\u001b[0;32m   3049\u001b[0m     \u001b[1;32mwith\u001b[0m \u001b[0mself\u001b[0m\u001b[1;33m.\u001b[0m\u001b[0m_lock\u001b[0m\u001b[1;33m:\u001b[0m\u001b[1;33m\u001b[0m\u001b[1;33m\u001b[0m\u001b[0m\n\u001b[1;32m-> 3050\u001b[1;33m       \u001b[0mgraph_function\u001b[0m\u001b[1;33m,\u001b[0m \u001b[0m_\u001b[0m \u001b[1;33m=\u001b[0m \u001b[0mself\u001b[0m\u001b[1;33m.\u001b[0m\u001b[0m_maybe_define_function\u001b[0m\u001b[1;33m(\u001b[0m\u001b[0margs\u001b[0m\u001b[1;33m,\u001b[0m \u001b[0mkwargs\u001b[0m\u001b[1;33m)\u001b[0m\u001b[1;33m\u001b[0m\u001b[1;33m\u001b[0m\u001b[0m\n\u001b[0m\u001b[0;32m   3051\u001b[0m     \u001b[1;32mreturn\u001b[0m \u001b[0mgraph_function\u001b[0m\u001b[1;33m\u001b[0m\u001b[1;33m\u001b[0m\u001b[0m\n\u001b[0;32m   3052\u001b[0m \u001b[1;33m\u001b[0m\u001b[0m\n",
      "\u001b[1;32m~\\miniconda3\\envs\\tf\\lib\\site-packages\\tensorflow\\python\\eager\\function.py\u001b[0m in \u001b[0;36m_maybe_define_function\u001b[1;34m(self, args, kwargs)\u001b[0m\n\u001b[0;32m   3442\u001b[0m \u001b[1;33m\u001b[0m\u001b[0m\n\u001b[0;32m   3443\u001b[0m           \u001b[0mself\u001b[0m\u001b[1;33m.\u001b[0m\u001b[0m_function_cache\u001b[0m\u001b[1;33m.\u001b[0m\u001b[0mmissed\u001b[0m\u001b[1;33m.\u001b[0m\u001b[0madd\u001b[0m\u001b[1;33m(\u001b[0m\u001b[0mcall_context_key\u001b[0m\u001b[1;33m)\u001b[0m\u001b[1;33m\u001b[0m\u001b[1;33m\u001b[0m\u001b[0m\n\u001b[1;32m-> 3444\u001b[1;33m           \u001b[0mgraph_function\u001b[0m \u001b[1;33m=\u001b[0m \u001b[0mself\u001b[0m\u001b[1;33m.\u001b[0m\u001b[0m_create_graph_function\u001b[0m\u001b[1;33m(\u001b[0m\u001b[0margs\u001b[0m\u001b[1;33m,\u001b[0m \u001b[0mkwargs\u001b[0m\u001b[1;33m)\u001b[0m\u001b[1;33m\u001b[0m\u001b[1;33m\u001b[0m\u001b[0m\n\u001b[0m\u001b[0;32m   3445\u001b[0m           \u001b[0mself\u001b[0m\u001b[1;33m.\u001b[0m\u001b[0m_function_cache\u001b[0m\u001b[1;33m.\u001b[0m\u001b[0mprimary\u001b[0m\u001b[1;33m[\u001b[0m\u001b[0mcache_key\u001b[0m\u001b[1;33m]\u001b[0m \u001b[1;33m=\u001b[0m \u001b[0mgraph_function\u001b[0m\u001b[1;33m\u001b[0m\u001b[1;33m\u001b[0m\u001b[0m\n\u001b[0;32m   3446\u001b[0m \u001b[1;33m\u001b[0m\u001b[0m\n",
      "\u001b[1;32m~\\miniconda3\\envs\\tf\\lib\\site-packages\\tensorflow\\python\\eager\\function.py\u001b[0m in \u001b[0;36m_create_graph_function\u001b[1;34m(self, args, kwargs, override_flat_arg_shapes)\u001b[0m\n\u001b[0;32m   3277\u001b[0m     \u001b[0marg_names\u001b[0m \u001b[1;33m=\u001b[0m \u001b[0mbase_arg_names\u001b[0m \u001b[1;33m+\u001b[0m \u001b[0mmissing_arg_names\u001b[0m\u001b[1;33m\u001b[0m\u001b[1;33m\u001b[0m\u001b[0m\n\u001b[0;32m   3278\u001b[0m     graph_function = ConcreteFunction(\n\u001b[1;32m-> 3279\u001b[1;33m         func_graph_module.func_graph_from_py_func(\n\u001b[0m\u001b[0;32m   3280\u001b[0m             \u001b[0mself\u001b[0m\u001b[1;33m.\u001b[0m\u001b[0m_name\u001b[0m\u001b[1;33m,\u001b[0m\u001b[1;33m\u001b[0m\u001b[1;33m\u001b[0m\u001b[0m\n\u001b[0;32m   3281\u001b[0m             \u001b[0mself\u001b[0m\u001b[1;33m.\u001b[0m\u001b[0m_python_function\u001b[0m\u001b[1;33m,\u001b[0m\u001b[1;33m\u001b[0m\u001b[1;33m\u001b[0m\u001b[0m\n",
      "\u001b[1;32m~\\miniconda3\\envs\\tf\\lib\\site-packages\\tensorflow\\python\\framework\\func_graph.py\u001b[0m in \u001b[0;36mfunc_graph_from_py_func\u001b[1;34m(name, python_func, args, kwargs, signature, func_graph, autograph, autograph_options, add_control_dependencies, arg_names, op_return_value, collections, capture_by_value, override_flat_arg_shapes)\u001b[0m\n\u001b[0;32m    997\u001b[0m         \u001b[0m_\u001b[0m\u001b[1;33m,\u001b[0m \u001b[0moriginal_func\u001b[0m \u001b[1;33m=\u001b[0m \u001b[0mtf_decorator\u001b[0m\u001b[1;33m.\u001b[0m\u001b[0munwrap\u001b[0m\u001b[1;33m(\u001b[0m\u001b[0mpython_func\u001b[0m\u001b[1;33m)\u001b[0m\u001b[1;33m\u001b[0m\u001b[1;33m\u001b[0m\u001b[0m\n\u001b[0;32m    998\u001b[0m \u001b[1;33m\u001b[0m\u001b[0m\n\u001b[1;32m--> 999\u001b[1;33m       \u001b[0mfunc_outputs\u001b[0m \u001b[1;33m=\u001b[0m \u001b[0mpython_func\u001b[0m\u001b[1;33m(\u001b[0m\u001b[1;33m*\u001b[0m\u001b[0mfunc_args\u001b[0m\u001b[1;33m,\u001b[0m \u001b[1;33m**\u001b[0m\u001b[0mfunc_kwargs\u001b[0m\u001b[1;33m)\u001b[0m\u001b[1;33m\u001b[0m\u001b[1;33m\u001b[0m\u001b[0m\n\u001b[0m\u001b[0;32m   1000\u001b[0m \u001b[1;33m\u001b[0m\u001b[0m\n\u001b[0;32m   1001\u001b[0m       \u001b[1;31m# invariant: `func_outputs` contains only Tensors, CompositeTensors,\u001b[0m\u001b[1;33m\u001b[0m\u001b[1;33m\u001b[0m\u001b[1;33m\u001b[0m\u001b[0m\n",
      "\u001b[1;32m~\\miniconda3\\envs\\tf\\lib\\site-packages\\tensorflow\\python\\eager\\def_function.py\u001b[0m in \u001b[0;36mwrapped_fn\u001b[1;34m(*args, **kwds)\u001b[0m\n\u001b[0;32m    670\u001b[0m         \u001b[1;31m# the function a weak reference to itself to avoid a reference cycle.\u001b[0m\u001b[1;33m\u001b[0m\u001b[1;33m\u001b[0m\u001b[1;33m\u001b[0m\u001b[0m\n\u001b[0;32m    671\u001b[0m         \u001b[1;32mwith\u001b[0m \u001b[0mOptionalXlaContext\u001b[0m\u001b[1;33m(\u001b[0m\u001b[0mcompile_with_xla\u001b[0m\u001b[1;33m)\u001b[0m\u001b[1;33m:\u001b[0m\u001b[1;33m\u001b[0m\u001b[1;33m\u001b[0m\u001b[0m\n\u001b[1;32m--> 672\u001b[1;33m           \u001b[0mout\u001b[0m \u001b[1;33m=\u001b[0m \u001b[0mweak_wrapped_fn\u001b[0m\u001b[1;33m(\u001b[0m\u001b[1;33m)\u001b[0m\u001b[1;33m.\u001b[0m\u001b[0m__wrapped__\u001b[0m\u001b[1;33m(\u001b[0m\u001b[1;33m*\u001b[0m\u001b[0margs\u001b[0m\u001b[1;33m,\u001b[0m \u001b[1;33m**\u001b[0m\u001b[0mkwds\u001b[0m\u001b[1;33m)\u001b[0m\u001b[1;33m\u001b[0m\u001b[1;33m\u001b[0m\u001b[0m\n\u001b[0m\u001b[0;32m    673\u001b[0m         \u001b[1;32mreturn\u001b[0m \u001b[0mout\u001b[0m\u001b[1;33m\u001b[0m\u001b[1;33m\u001b[0m\u001b[0m\n\u001b[0;32m    674\u001b[0m \u001b[1;33m\u001b[0m\u001b[0m\n",
      "\u001b[1;32m~\\miniconda3\\envs\\tf\\lib\\site-packages\\tensorflow\\python\\framework\\func_graph.py\u001b[0m in \u001b[0;36mwrapper\u001b[1;34m(*args, **kwargs)\u001b[0m\n\u001b[0;32m    984\u001b[0m           \u001b[1;32mexcept\u001b[0m \u001b[0mException\u001b[0m \u001b[1;32mas\u001b[0m \u001b[0me\u001b[0m\u001b[1;33m:\u001b[0m  \u001b[1;31m# pylint:disable=broad-except\u001b[0m\u001b[1;33m\u001b[0m\u001b[1;33m\u001b[0m\u001b[0m\n\u001b[0;32m    985\u001b[0m             \u001b[1;32mif\u001b[0m \u001b[0mhasattr\u001b[0m\u001b[1;33m(\u001b[0m\u001b[0me\u001b[0m\u001b[1;33m,\u001b[0m \u001b[1;34m\"ag_error_metadata\"\u001b[0m\u001b[1;33m)\u001b[0m\u001b[1;33m:\u001b[0m\u001b[1;33m\u001b[0m\u001b[1;33m\u001b[0m\u001b[0m\n\u001b[1;32m--> 986\u001b[1;33m               \u001b[1;32mraise\u001b[0m \u001b[0me\u001b[0m\u001b[1;33m.\u001b[0m\u001b[0mag_error_metadata\u001b[0m\u001b[1;33m.\u001b[0m\u001b[0mto_exception\u001b[0m\u001b[1;33m(\u001b[0m\u001b[0me\u001b[0m\u001b[1;33m)\u001b[0m\u001b[1;33m\u001b[0m\u001b[1;33m\u001b[0m\u001b[0m\n\u001b[0m\u001b[0;32m    987\u001b[0m             \u001b[1;32melse\u001b[0m\u001b[1;33m:\u001b[0m\u001b[1;33m\u001b[0m\u001b[1;33m\u001b[0m\u001b[0m\n\u001b[0;32m    988\u001b[0m               \u001b[1;32mraise\u001b[0m\u001b[1;33m\u001b[0m\u001b[1;33m\u001b[0m\u001b[0m\n",
      "\u001b[1;31mValueError\u001b[0m: in user code:\n\n    C:\\Users\\aqcru\\miniconda3\\envs\\tf\\lib\\site-packages\\tensorflow\\python\\keras\\engine\\training.py:855 train_function  *\n        return step_function(self, iterator)\n    C:\\Users\\aqcru\\miniconda3\\envs\\tf\\lib\\site-packages\\tensorflow\\python\\keras\\engine\\training.py:845 step_function  **\n        outputs = model.distribute_strategy.run(run_step, args=(data,))\n    C:\\Users\\aqcru\\miniconda3\\envs\\tf\\lib\\site-packages\\tensorflow\\python\\distribute\\distribute_lib.py:1285 run\n        return self._extended.call_for_each_replica(fn, args=args, kwargs=kwargs)\n    C:\\Users\\aqcru\\miniconda3\\envs\\tf\\lib\\site-packages\\tensorflow\\python\\distribute\\distribute_lib.py:2833 call_for_each_replica\n        return self._call_for_each_replica(fn, args, kwargs)\n    C:\\Users\\aqcru\\miniconda3\\envs\\tf\\lib\\site-packages\\tensorflow\\python\\distribute\\distribute_lib.py:3608 _call_for_each_replica\n        return fn(*args, **kwargs)\n    C:\\Users\\aqcru\\miniconda3\\envs\\tf\\lib\\site-packages\\tensorflow\\python\\keras\\engine\\training.py:838 run_step  **\n        outputs = model.train_step(data)\n    C:\\Users\\aqcru\\miniconda3\\envs\\tf\\lib\\site-packages\\tensorflow\\python\\keras\\engine\\training.py:795 train_step\n        y_pred = self(x, training=True)\n    C:\\Users\\aqcru\\miniconda3\\envs\\tf\\lib\\site-packages\\tensorflow\\python\\keras\\engine\\base_layer.py:1013 __call__\n        input_spec.assert_input_compatibility(self.input_spec, inputs, self.name)\n    C:\\Users\\aqcru\\miniconda3\\envs\\tf\\lib\\site-packages\\tensorflow\\python\\keras\\engine\\input_spec.py:251 assert_input_compatibility\n        raise ValueError(\n\n    ValueError: Input 0 of layer sequential_24 is incompatible with the layer: expected axis -1 of input shape to have value 1 but received input with shape (1, 9)\n"
     ]
    }
   ],
   "source": [
    "results = cross_val_score(estimator, data, dummy_labels, cv=kfold, error_score='raise')\n",
    "print(\"Accuracy: %.2f%% (%.2f%%)\" % (results.mean()*100, results.std()*100))"
   ]
  },
  {
   "cell_type": "markdown",
   "metadata": {},
   "source": [
    "# Debug\n",
    "Run these cells only if you need to debug"
   ]
  },
  {
   "cell_type": "markdown",
   "metadata": {},
   "source": [
    "Show NN input types and size"
   ]
  },
  {
   "cell_type": "code",
   "execution_count": 15,
   "metadata": {},
   "outputs": [
    {
     "name": "stdout",
     "output_type": "stream",
     "text": [
      "(None, 9) <dtype: 'float32'>\n",
      "(None, 4) <dtype: 'float32'>\n",
      "dense_4 (None, 9) float32\n",
      "dense_5 (None, 12) float32\n"
     ]
    },
    {
     "data": {
      "text/plain": [
       "[None, None]"
      ]
     },
     "execution_count": 15,
     "metadata": {},
     "output_type": "execute_result"
    }
   ],
   "source": [
    "[print(i.shape, i.dtype) for i in model.inputs]\n",
    "[print(o.shape, o.dtype) for o in model.outputs]\n",
    "[print(l.name, l.input_shape, l.dtype) for l in model.layers]"
   ]
  },
  {
   "cell_type": "code",
   "execution_count": null,
   "metadata": {},
   "outputs": [],
   "source": []
  }
 ],
 "metadata": {
  "interpreter": {
   "hash": "6394378ecbf0ca5a812e2eb8ea56ae8c6ee87fc6c4767b4ee04afdd1159caa61"
  },
  "kernelspec": {
   "display_name": "Python 3 (ipykernel)",
   "language": "python",
   "name": "python3"
  },
  "language_info": {
   "codemirror_mode": {
    "name": "ipython",
    "version": 3
   },
   "file_extension": ".py",
   "mimetype": "text/x-python",
   "name": "python",
   "nbconvert_exporter": "python",
   "pygments_lexer": "ipython3",
   "version": "3.9.5"
  }
 },
 "nbformat": 4,
 "nbformat_minor": 2
}
