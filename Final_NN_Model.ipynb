{
 "cells": [
  {
   "cell_type": "markdown",
   "id": "68f23229",
   "metadata": {},
   "source": [
    "# Welcome! This is Antonio Cervantes and Christian Pedrigal's Machine Learning Final Project!\n",
    "\n",
    "## Implementation of an Activity Detection System\n",
    "\n",
    "#### Fall 2021 | Feruza Amirkulova ME 297-01 | Introduction to Optimization and Machine Learning |San Jose State University"
   ]
  },
  {
   "cell_type": "markdown",
   "id": "eb9bf8b6",
   "metadata": {},
   "source": [
    "# Imports"
   ]
  },
  {
   "cell_type": "code",
   "execution_count": 1,
   "id": "7d4040e9",
   "metadata": {},
   "outputs": [],
   "source": [
    "import os\n",
    "import numpy as np\n",
    "%matplotlib widget\n",
    "from mpl_toolkits import mplot3d\n",
    "import matplotlib.pyplot as plt\n",
    "from pandas import read_csv\n",
    "import tensorflow as tf\n",
    "from tensorflow import keras\n",
    "from tensorflow.keras.utils import to_categorical\n",
    "from tensorflow.keras.models import Sequential\n",
    "from tensorflow.keras.layers import Dense, Dropout\n",
    "from tensorflow.keras.optimizers import RMSprop, Nadam\n",
    "from tensorflow.python.keras.optimizer_v2.adam import Adam\n",
    "from tensorflow.keras.wrappers.scikit_learn import KerasClassifier\n",
    "from sklearn.preprocessing import LabelEncoder\n",
    "from sklearn.model_selection import cross_val_score, KFold, train_test_split"
   ]
  },
  {
   "cell_type": "markdown",
   "id": "faa750f4",
   "metadata": {},
   "source": [
    "# Inputs\n",
    "Data file should be a .csv file in the format of\n",
    "\n",
    "<font color=red>feature1, feature2, feature3, ..., featureN, activity_label\n",
    "\n",
    "Features can be from any number of XYZ axes and from either or all sensors decided by engineers, but be sure to note which order they are placed in, and the order of the sensor type."
   ]
  },
  {
   "cell_type": "markdown",
   "id": "64042644",
   "metadata": {},
   "source": [
    "#### Read Data Table"
   ]
  },
  {
   "cell_type": "code",
   "execution_count": 2,
   "id": "c4a4d1ea",
   "metadata": {},
   "outputs": [],
   "source": [
    "datafile = read_csv(r'.\\data\\finalDateTable.csv', header=0)\n",
    "dataset = datafile.values"
   ]
  },
  {
   "cell_type": "markdown",
   "id": "1818a123",
   "metadata": {},
   "source": [
    "#### View Data Table"
   ]
  },
  {
   "cell_type": "code",
   "execution_count": 3,
   "id": "74d2f047",
   "metadata": {},
   "outputs": [
    {
     "data": {
      "text/html": [
       "<div>\n",
       "<style scoped>\n",
       "    .dataframe tbody tr th:only-of-type {\n",
       "        vertical-align: middle;\n",
       "    }\n",
       "\n",
       "    .dataframe tbody tr th {\n",
       "        vertical-align: top;\n",
       "    }\n",
       "\n",
       "    .dataframe thead th {\n",
       "        text-align: right;\n",
       "    }\n",
       "</style>\n",
       "<table border=\"1\" class=\"dataframe\">\n",
       "  <thead>\n",
       "    <tr style=\"text-align: right;\">\n",
       "      <th></th>\n",
       "      <th>AngFreqX</th>\n",
       "      <th>AngFreqY</th>\n",
       "      <th>AngFreqZ</th>\n",
       "      <th>AmpX</th>\n",
       "      <th>AmpY</th>\n",
       "      <th>AmpZ</th>\n",
       "      <th>MedJerkX</th>\n",
       "      <th>MedJerkY</th>\n",
       "      <th>MedJerkZ</th>\n",
       "      <th>LabelCol</th>\n",
       "    </tr>\n",
       "  </thead>\n",
       "  <tbody>\n",
       "    <tr>\n",
       "      <th>0</th>\n",
       "      <td>2.344570</td>\n",
       "      <td>4.769465</td>\n",
       "      <td>3.453826</td>\n",
       "      <td>43.499893</td>\n",
       "      <td>29.784348</td>\n",
       "      <td>29.201104</td>\n",
       "      <td>36.246550</td>\n",
       "      <td>37.524702</td>\n",
       "      <td>38.218704</td>\n",
       "      <td>Bike</td>\n",
       "    </tr>\n",
       "    <tr>\n",
       "      <th>1</th>\n",
       "      <td>7.032146</td>\n",
       "      <td>14.292519</td>\n",
       "      <td>10.349982</td>\n",
       "      <td>6.386593</td>\n",
       "      <td>45.329783</td>\n",
       "      <td>2.792721</td>\n",
       "      <td>40.906822</td>\n",
       "      <td>40.193130</td>\n",
       "      <td>38.367857</td>\n",
       "      <td>Bike</td>\n",
       "    </tr>\n",
       "    <tr>\n",
       "      <th>2</th>\n",
       "      <td>7.032146</td>\n",
       "      <td>23.815572</td>\n",
       "      <td>3.453826</td>\n",
       "      <td>2.819911</td>\n",
       "      <td>52.104106</td>\n",
       "      <td>3.694607</td>\n",
       "      <td>48.761701</td>\n",
       "      <td>48.746860</td>\n",
       "      <td>48.556502</td>\n",
       "      <td>Bike</td>\n",
       "    </tr>\n",
       "    <tr>\n",
       "      <th>3</th>\n",
       "      <td>2.344570</td>\n",
       "      <td>23.815572</td>\n",
       "      <td>17.246137</td>\n",
       "      <td>2.151884</td>\n",
       "      <td>58.046007</td>\n",
       "      <td>2.368276</td>\n",
       "      <td>43.856071</td>\n",
       "      <td>43.128339</td>\n",
       "      <td>41.641957</td>\n",
       "      <td>Bike</td>\n",
       "    </tr>\n",
       "    <tr>\n",
       "      <th>4</th>\n",
       "      <td>4.688358</td>\n",
       "      <td>4.769465</td>\n",
       "      <td>3.453826</td>\n",
       "      <td>3.354227</td>\n",
       "      <td>50.679265</td>\n",
       "      <td>0.996908</td>\n",
       "      <td>39.248316</td>\n",
       "      <td>39.740246</td>\n",
       "      <td>39.716234</td>\n",
       "      <td>Bike</td>\n",
       "    </tr>\n",
       "    <tr>\n",
       "      <th>...</th>\n",
       "      <td>...</td>\n",
       "      <td>...</td>\n",
       "      <td>...</td>\n",
       "      <td>...</td>\n",
       "      <td>...</td>\n",
       "      <td>...</td>\n",
       "      <td>...</td>\n",
       "      <td>...</td>\n",
       "      <td>...</td>\n",
       "      <td>...</td>\n",
       "    </tr>\n",
       "    <tr>\n",
       "      <th>2477</th>\n",
       "      <td>11.161678</td>\n",
       "      <td>22.681875</td>\n",
       "      <td>16.425166</td>\n",
       "      <td>97.280707</td>\n",
       "      <td>31.785980</td>\n",
       "      <td>40.308343</td>\n",
       "      <td>53.185629</td>\n",
       "      <td>54.971847</td>\n",
       "      <td>52.154658</td>\n",
       "      <td>Walk</td>\n",
       "    </tr>\n",
       "    <tr>\n",
       "      <th>2478</th>\n",
       "      <td>11.719723</td>\n",
       "      <td>23.815572</td>\n",
       "      <td>17.246137</td>\n",
       "      <td>97.368660</td>\n",
       "      <td>31.141359</td>\n",
       "      <td>39.995816</td>\n",
       "      <td>42.071573</td>\n",
       "      <td>43.047521</td>\n",
       "      <td>42.430035</td>\n",
       "      <td>Walk</td>\n",
       "    </tr>\n",
       "    <tr>\n",
       "      <th>2479</th>\n",
       "      <td>11.719723</td>\n",
       "      <td>23.815572</td>\n",
       "      <td>17.246137</td>\n",
       "      <td>97.547687</td>\n",
       "      <td>32.242386</td>\n",
       "      <td>41.831902</td>\n",
       "      <td>49.061065</td>\n",
       "      <td>49.725893</td>\n",
       "      <td>49.762876</td>\n",
       "      <td>Walk</td>\n",
       "    </tr>\n",
       "    <tr>\n",
       "      <th>2480</th>\n",
       "      <td>11.719723</td>\n",
       "      <td>23.815572</td>\n",
       "      <td>17.246137</td>\n",
       "      <td>97.723831</td>\n",
       "      <td>31.206160</td>\n",
       "      <td>40.676614</td>\n",
       "      <td>53.100032</td>\n",
       "      <td>48.206290</td>\n",
       "      <td>47.133008</td>\n",
       "      <td>Walk</td>\n",
       "    </tr>\n",
       "    <tr>\n",
       "      <th>2481</th>\n",
       "      <td>11.719723</td>\n",
       "      <td>23.815572</td>\n",
       "      <td>17.246137</td>\n",
       "      <td>97.241269</td>\n",
       "      <td>30.361051</td>\n",
       "      <td>41.185484</td>\n",
       "      <td>36.513067</td>\n",
       "      <td>42.067797</td>\n",
       "      <td>47.219229</td>\n",
       "      <td>Walk</td>\n",
       "    </tr>\n",
       "  </tbody>\n",
       "</table>\n",
       "<p>2482 rows × 10 columns</p>\n",
       "</div>"
      ],
      "text/plain": [
       "       AngFreqX   AngFreqY   AngFreqZ       AmpX       AmpY       AmpZ  \\\n",
       "0      2.344570   4.769465   3.453826  43.499893  29.784348  29.201104   \n",
       "1      7.032146  14.292519  10.349982   6.386593  45.329783   2.792721   \n",
       "2      7.032146  23.815572   3.453826   2.819911  52.104106   3.694607   \n",
       "3      2.344570  23.815572  17.246137   2.151884  58.046007   2.368276   \n",
       "4      4.688358   4.769465   3.453826   3.354227  50.679265   0.996908   \n",
       "...         ...        ...        ...        ...        ...        ...   \n",
       "2477  11.161678  22.681875  16.425166  97.280707  31.785980  40.308343   \n",
       "2478  11.719723  23.815572  17.246137  97.368660  31.141359  39.995816   \n",
       "2479  11.719723  23.815572  17.246137  97.547687  32.242386  41.831902   \n",
       "2480  11.719723  23.815572  17.246137  97.723831  31.206160  40.676614   \n",
       "2481  11.719723  23.815572  17.246137  97.241269  30.361051  41.185484   \n",
       "\n",
       "       MedJerkX   MedJerkY   MedJerkZ LabelCol  \n",
       "0     36.246550  37.524702  38.218704     Bike  \n",
       "1     40.906822  40.193130  38.367857     Bike  \n",
       "2     48.761701  48.746860  48.556502     Bike  \n",
       "3     43.856071  43.128339  41.641957     Bike  \n",
       "4     39.248316  39.740246  39.716234     Bike  \n",
       "...         ...        ...        ...      ...  \n",
       "2477  53.185629  54.971847  52.154658     Walk  \n",
       "2478  42.071573  43.047521  42.430035     Walk  \n",
       "2479  49.061065  49.725893  49.762876     Walk  \n",
       "2480  53.100032  48.206290  47.133008     Walk  \n",
       "2481  36.513067  42.067797  47.219229     Walk  \n",
       "\n",
       "[2482 rows x 10 columns]"
      ]
     },
     "execution_count": 3,
     "metadata": {},
     "output_type": "execute_result"
    }
   ],
   "source": [
    "datafile"
   ]
  },
  {
   "cell_type": "markdown",
   "id": "4780daed",
   "metadata": {},
   "source": [
    "#### Parse the dataset and labels"
   ]
  },
  {
   "cell_type": "code",
   "execution_count": 15,
   "id": "bd5bb178",
   "metadata": {},
   "outputs": [],
   "source": [
    "# Set data object as all row and all columns up to the last one\n",
    "data = np.array(dataset[:,:-1]).astype(float)\n",
    "\n",
    "# Set labels object as all row of the last column\n",
    "labels = dataset[:,-1]"
   ]
  },
  {
   "cell_type": "markdown",
   "id": "533a7321",
   "metadata": {},
   "source": [
    "#### Encode the labels"
   ]
  },
  {
   "cell_type": "code",
   "execution_count": 16,
   "id": "a0198cd5",
   "metadata": {},
   "outputs": [],
   "source": [
    "# Encode class values as integers\n",
    "encoder = LabelEncoder()\n",
    "encoder.fit(labels)\n",
    "encoded_labels = encoder.transform(labels)\n",
    "\n",
    "# Define the number of classes in the dataset\n",
    "classes = encoded_labels[-1] + 1"
   ]
  },
  {
   "cell_type": "markdown",
   "id": "55673822",
   "metadata": {},
   "source": [
    "#### Define the number of features and classes"
   ]
  },
  {
   "cell_type": "code",
   "execution_count": 17,
   "id": "824ff770",
   "metadata": {},
   "outputs": [],
   "source": [
    "# Define the number of features in the dataset\n",
    "features = len(data[0,:])\n",
    "\n",
    "# Define the number of classes in the dataset\n",
    "classes = encoded_labels[-1] + 1"
   ]
  },
  {
   "cell_type": "markdown",
   "id": "6fa3a988",
   "metadata": {},
   "source": [
    "# Training"
   ]
  },
  {
   "cell_type": "markdown",
   "id": "a0813845",
   "metadata": {},
   "source": [
    "#### Define the Nueral Network"
   ]
  },
  {
   "cell_type": "code",
   "execution_count": 18,
   "id": "1ffa35d6",
   "metadata": {},
   "outputs": [],
   "source": [
    "def baseline_model():\n",
    "\t# create model\n",
    "\tmodel = Sequential()\n",
    "\tmodel.add(Dense(27, input_dim = features, activation='relu'))\n",
    "\tmodel.add(Dense(classes, activation='softmax'))\n",
    "\t# Compile model\n",
    "\tmodel.compile(loss='categorical_crossentropy', optimizer='adam', metrics=['accuracy'])\n",
    "\treturn model"
   ]
  },
  {
   "cell_type": "markdown",
   "id": "eaece1c4",
   "metadata": {},
   "source": [
    "#### Create a Keras Classifier object"
   ]
  },
  {
   "cell_type": "code",
   "execution_count": 19,
   "id": "8a63278d",
   "metadata": {},
   "outputs": [],
   "source": [
    "# Create Estimator\n",
    "estimator = KerasClassifier(build_fn=baseline_model, epochs=200, batch_size=1, verbose=0)"
   ]
  },
  {
   "cell_type": "markdown",
   "id": "6d3121cd",
   "metadata": {},
   "source": [
    "#### Create a KFold object"
   ]
  },
  {
   "cell_type": "code",
   "execution_count": 20,
   "id": "5fd65ef5",
   "metadata": {},
   "outputs": [],
   "source": [
    "kfold = KFold(n_splits=4, shuffle=True)"
   ]
  },
  {
   "cell_type": "markdown",
   "id": "c1f6859a",
   "metadata": {},
   "source": [
    "#### Create a dummy labels for evaluation"
   ]
  },
  {
   "cell_type": "code",
   "execution_count": 21,
   "id": "d61cbe1b",
   "metadata": {},
   "outputs": [],
   "source": [
    "# convert integers to dummy variables (i.e. one hot encoded)\n",
    "dummy_labels = to_categorical(encoded_labels)"
   ]
  },
  {
   "cell_type": "markdown",
   "id": "cd4872a8",
   "metadata": {},
   "source": [
    "# Evaulation"
   ]
  },
  {
   "cell_type": "markdown",
   "id": "e5eeacfb",
   "metadata": {},
   "source": [
    "#### Use Cross Valuation Score to evaluate the accuracy of the model"
   ]
  },
  {
   "cell_type": "code",
   "execution_count": 22,
   "id": "65fdc321",
   "metadata": {},
   "outputs": [
    {
     "name": "stdout",
     "output_type": "stream",
     "text": [
      "Accuracy: 87.83% (1.50%)\n"
     ]
    }
   ],
   "source": [
    "results = cross_val_score(estimator, data, dummy_labels, cv=kfold, error_score='raise')\n",
    "print(\"Accuracy: %.2f%% (%.2f%%)\" % (results.mean()*100, results.std()*100))"
   ]
  },
  {
   "cell_type": "code",
   "execution_count": null,
   "id": "c18b0f38",
   "metadata": {},
   "outputs": [],
   "source": []
  }
 ],
 "metadata": {
  "kernelspec": {
   "display_name": "Python [conda env:tf] *",
   "language": "python",
   "name": "conda-env-tf-py"
  },
  "language_info": {
   "codemirror_mode": {
    "name": "ipython",
    "version": 3
   },
   "file_extension": ".py",
   "mimetype": "text/x-python",
   "name": "python",
   "nbconvert_exporter": "python",
   "pygments_lexer": "ipython3",
   "version": "3.9.5"
  }
 },
 "nbformat": 4,
 "nbformat_minor": 5
}
