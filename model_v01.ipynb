{
 "cells": [
  {
   "cell_type": "markdown",
   "metadata": {},
   "source": [
    "# Welcome! This is Antonio Cervantes and Christian Pedrigal's 1st ML Algorithm!\n",
    "\n",
    "## Implementing Convolutional Neural Network (CNN) Models for Autonomous Drone Navigation\n",
    "\n",
    "### Fall 2021 | Feruza Amirkulova ME 297-01 | Introduction to Optimization and Machine Learning\n"
   ]
  },
  {
   "cell_type": "markdown",
   "metadata": {},
   "source": [
    "#### Imports"
   ]
  },
  {
   "cell_type": "code",
   "execution_count": 1,
   "metadata": {},
   "outputs": [],
   "source": [
    "import numpy as np\n",
    "import matplotlib.pyplot as plt\n",
    "import pandas as pd\n",
    "import tensorflow as tf\n",
    "from tensorflow import keras\n",
    "from tensorflow.keras.models import Sequential\n",
    "from tensorflow.keras.layers import Dense, Dropout\n",
    "from tensorflow.keras.optimizers import RMSprop\n",
    "from tensorflow.python.keras.optimizer_v2.adam import Adam"
   ]
  },
  {
   "cell_type": "markdown",
   "metadata": {},
   "source": [
    "# Input"
   ]
  },
  {
   "cell_type": "code",
   "execution_count": 13,
   "metadata": {},
   "outputs": [],
   "source": [
    "accel_data = pd.read_excel(r'.\\data\\acceleration.xlsx')\n",
    "accel = np.array(accel_data)"
   ]
  },
  {
   "cell_type": "code",
   "execution_count": 14,
   "metadata": {},
   "outputs": [],
   "source": [
    "X = np.array(accel[:,1],dtype=np.float32)\n",
    "Y = np.array(accel[:,2],dtype=np.float32)\n",
    "Z = np.array(accel[:,3],dtype=np.float32)\n",
    "t = np.arange(0,len(X))"
   ]
  },
  {
   "cell_type": "code",
   "execution_count": 15,
   "metadata": {},
   "outputs": [
    {
     "data": {
      "image/png": "[encoded data removed]",
      "text/plain": [
       "<Figure size 432x288 with 1 Axes>"
      ]
     },
     "metadata": {
      "needs_background": "light"
     },
     "output_type": "display_data"
    }
   ],
   "source": [
    "plt.clf()\n",
    "plt.figure(1)\n",
    "plt.plot(t,X,color='red',label='X')\n",
    "plt.plot(t,Y,color='blue',label=\"Y\")\n",
    "plt.plot(t,Z,color='green',label=\"Z\")\n",
    "plt.legend(['X','Y','Z'])\n",
    "plt.xlabel('Time [sec]')\n",
    "plt.ylabel('Acceleration [m/s^2]')\n",
    "plt.title('Accelerations')\n",
    "plt.show()"
   ]
  },
  {
   "cell_type": "markdown",
   "metadata": {},
   "source": [
    "# Learning"
   ]
  },
  {
   "cell_type": "code",
   "execution_count": 20,
   "metadata": {},
   "outputs": [
    {
     "name": "stdout",
     "output_type": "stream",
     "text": [
      "Model: \"sequential_3\"\n",
      "_________________________________________________________________\n",
      "Layer (type)                 Output Shape              Param #   \n",
      "=================================================================\n",
      "dense_9 (Dense)              (None, 12)                24        \n",
      "_________________________________________________________________\n",
      "dense_10 (Dense)             (None, 8)                 104       \n",
      "_________________________________________________________________\n",
      "dense_11 (Dense)             (None, 1)                 9         \n",
      "=================================================================\n",
      "Total params: 137\n",
      "Trainable params: 137\n",
      "Non-trainable params: 0\n",
      "_________________________________________________________________\n"
     ]
    }
   ],
   "source": [
    "# Create the model\n",
    "model = Sequential()\n",
    "model.add(Dense(12, input_dim=1, activation='relu'))\n",
    "model.add(Dense(8, activation='relu'))\n",
    "model.add(Dense(1, activation='sigmoid'))\n",
    "model.summary()"
   ]
  },
  {
   "cell_type": "code",
   "execution_count": 21,
   "metadata": {},
   "outputs": [
    {
     "name": "stdout",
     "output_type": "stream",
     "text": [
      "(None, 1) <dtype: 'float32'>\n",
      "(None, 1) <dtype: 'float32'>\n",
      "dense_9 (None, 1) float32\n",
      "dense_10 (None, 12) float32\n",
      "dense_11 (None, 8) float32\n"
     ]
    },
    {
     "data": {
      "text/plain": [
       "[None, None, None]"
      ]
     },
     "execution_count": 21,
     "metadata": {},
     "output_type": "execute_result"
    }
   ],
   "source": [
    "[print(i.shape, i.dtype) for i in model.inputs]\n",
    "[print(o.shape, o.dtype) for o in model.outputs]\n",
    "[print(l.name, l.input_shape, l.dtype) for l in model.layers]"
   ]
  },
  {
   "cell_type": "code",
   "execution_count": 22,
   "metadata": {},
   "outputs": [],
   "source": [
    "# Compile model\n",
    "model.compile(loss='binary_crossentropy', optimizer='adam', metrics=['accuracy'])"
   ]
  },
  {
   "cell_type": "code",
   "execution_count": 23,
   "metadata": {},
   "outputs": [
    {
     "name": "stdout",
     "output_type": "stream",
     "text": [
      "Epoch 1/150\n",
      "27/27 [==============================] - 2s 19ms/step - loss: 0.8309 - accuracy: 0.0000e+00 - val_loss: -1.2421 - val_accuracy: 0.0000e+00\n",
      "Epoch 2/150\n",
      "27/27 [==============================] - 0s 6ms/step - loss: 0.6542 - accuracy: 0.0000e+00 - val_loss: -1.1927 - val_accuracy: 0.0000e+00\n",
      "Epoch 3/150\n",
      "27/27 [==============================] - 0s 6ms/step - loss: 0.5682 - accuracy: 0.0000e+00 - val_loss: -0.9066 - val_accuracy: 0.0000e+00\n",
      "Epoch 4/150\n",
      "27/27 [==============================] - 0s 6ms/step - loss: 0.4772 - accuracy: 0.0000e+00 - val_loss: -0.7658 - val_accuracy: 0.0000e+00\n",
      "Epoch 5/150\n",
      "27/27 [==============================] - 0s 6ms/step - loss: 0.4120 - accuracy: 0.0000e+00 - val_loss: -0.6684 - val_accuracy: 0.0000e+00\n",
      "Epoch 6/150\n",
      "27/27 [==============================] - 0s 10ms/step - loss: 0.3449 - accuracy: 0.0000e+00 - val_loss: -0.4605 - val_accuracy: 0.0000e+00\n",
      "Epoch 7/150\n",
      "27/27 [==============================] - 0s 8ms/step - loss: 0.3421 - accuracy: 0.0000e+00 - val_loss: -0.3461 - val_accuracy: 0.0000e+00\n",
      "Epoch 8/150\n",
      "27/27 [==============================] - 0s 7ms/step - loss: 0.3239 - accuracy: 0.0000e+00 - val_loss: -0.3039 - val_accuracy: 0.0000e+00\n",
      "Epoch 9/150\n",
      "27/27 [==============================] - 0s 6ms/step - loss: 0.3182 - accuracy: 0.0000e+00 - val_loss: -0.3478 - val_accuracy: 0.0000e+00\n",
      "Epoch 10/150\n",
      "27/27 [==============================] - 0s 5ms/step - loss: 0.3174 - accuracy: 0.0000e+00 - val_loss: -0.3390 - val_accuracy: 0.0000e+00\n",
      "Epoch 11/150\n",
      "27/27 [==============================] - 0s 5ms/step - loss: 0.3663 - accuracy: 0.0000e+00 - val_loss: -0.3381 - val_accuracy: 0.0000e+00\n",
      "Epoch 12/150\n",
      "27/27 [==============================] - 0s 5ms/step - loss: 0.3157 - accuracy: 0.0000e+00 - val_loss: -0.3435 - val_accuracy: 0.0000e+00\n",
      "Epoch 13/150\n",
      "27/27 [==============================] - 0s 6ms/step - loss: 0.3196 - accuracy: 0.0000e+00 - val_loss: -0.3452 - val_accuracy: 0.0000e+00\n",
      "Epoch 14/150\n",
      "27/27 [==============================] - 0s 7ms/step - loss: 0.3451 - accuracy: 0.0000e+00 - val_loss: -0.3071 - val_accuracy: 0.0000e+00\n",
      "Epoch 15/150\n",
      "27/27 [==============================] - 0s 6ms/step - loss: 0.3243 - accuracy: 0.0000e+00 - val_loss: -0.3196 - val_accuracy: 0.0000e+00\n",
      "Epoch 16/150\n",
      "27/27 [==============================] - 0s 7ms/step - loss: 0.3161 - accuracy: 0.0000e+00 - val_loss: -0.3052 - val_accuracy: 0.0000e+00\n",
      "Epoch 17/150\n",
      "27/27 [==============================] - 0s 5ms/step - loss: 0.3057 - accuracy: 0.0000e+00 - val_loss: -0.2639 - val_accuracy: 0.0000e+00\n",
      "Epoch 18/150\n",
      "27/27 [==============================] - 0s 5ms/step - loss: 0.3195 - accuracy: 0.0000e+00 - val_loss: -0.2971 - val_accuracy: 0.0000e+00\n",
      "Epoch 19/150\n",
      "27/27 [==============================] - 0s 5ms/step - loss: 0.2941 - accuracy: 0.0000e+00 - val_loss: -0.2443 - val_accuracy: 0.0000e+00\n",
      "Epoch 20/150\n",
      "27/27 [==============================] - 0s 5ms/step - loss: 0.2990 - accuracy: 0.0000e+00 - val_loss: -0.2971 - val_accuracy: 0.0000e+00\n",
      "Epoch 21/150\n",
      "27/27 [==============================] - 0s 5ms/step - loss: 0.2924 - accuracy: 0.0000e+00 - val_loss: -0.3155 - val_accuracy: 0.0000e+00\n",
      "Epoch 22/150\n",
      "27/27 [==============================] - 0s 5ms/step - loss: 0.3153 - accuracy: 0.0000e+00 - val_loss: -0.3442 - val_accuracy: 0.0000e+00\n",
      "Epoch 23/150\n",
      "27/27 [==============================] - 0s 5ms/step - loss: 0.2991 - accuracy: 0.0000e+00 - val_loss: -0.4027 - val_accuracy: 0.0000e+00\n",
      "Epoch 24/150\n",
      "27/27 [==============================] - 0s 5ms/step - loss: 0.3101 - accuracy: 0.0000e+00 - val_loss: -0.2989 - val_accuracy: 0.0000e+00\n",
      "Epoch 25/150\n",
      "27/27 [==============================] - 0s 5ms/step - loss: 0.3126 - accuracy: 0.0000e+00 - val_loss: -0.3678 - val_accuracy: 0.0000e+00\n",
      "Epoch 26/150\n",
      "27/27 [==============================] - 0s 5ms/step - loss: 0.3309 - accuracy: 0.0000e+00 - val_loss: -0.2174 - val_accuracy: 0.0000e+00\n",
      "Epoch 27/150\n",
      "27/27 [==============================] - 0s 5ms/step - loss: 0.2823 - accuracy: 0.0000e+00 - val_loss: -0.3176 - val_accuracy: 0.0000e+00\n",
      "Epoch 28/150\n",
      "27/27 [==============================] - 0s 5ms/step - loss: 0.2980 - accuracy: 0.0000e+00 - val_loss: -0.3282 - val_accuracy: 0.0000e+00\n",
      "Epoch 29/150\n",
      "27/27 [==============================] - 0s 6ms/step - loss: 0.2753 - accuracy: 0.0000e+00 - val_loss: -0.3002 - val_accuracy: 0.0000e+00\n",
      "Epoch 30/150\n",
      "27/27 [==============================] - 0s 7ms/step - loss: 0.2905 - accuracy: 0.0000e+00 - val_loss: -0.2501 - val_accuracy: 0.0000e+00\n",
      "Epoch 31/150\n",
      "27/27 [==============================] - 0s 8ms/step - loss: 0.4238 - accuracy: 0.0000e+00 - val_loss: -0.4814 - val_accuracy: 0.0000e+00\n",
      "Epoch 32/150\n",
      "27/27 [==============================] - 0s 7ms/step - loss: 0.3104 - accuracy: 0.0000e+00 - val_loss: -0.2708 - val_accuracy: 0.0000e+00\n",
      "Epoch 33/150\n",
      "27/27 [==============================] - 0s 6ms/step - loss: 0.2793 - accuracy: 0.0000e+00 - val_loss: -0.2686 - val_accuracy: 0.0000e+00\n",
      "Epoch 34/150\n",
      "27/27 [==============================] - 0s 6ms/step - loss: 0.2962 - accuracy: 0.0000e+00 - val_loss: -0.3422 - val_accuracy: 0.0000e+00\n",
      "Epoch 35/150\n",
      "27/27 [==============================] - 0s 7ms/step - loss: 0.2767 - accuracy: 0.0000e+00 - val_loss: -0.2339 - val_accuracy: 0.0000e+00\n",
      "Epoch 36/150\n",
      "27/27 [==============================] - 0s 6ms/step - loss: 0.2801 - accuracy: 0.0000e+00 - val_loss: -0.3291 - val_accuracy: 0.0000e+00\n",
      "Epoch 37/150\n",
      "27/27 [==============================] - 0s 5ms/step - loss: 0.2898 - accuracy: 0.0000e+00 - val_loss: -0.3710 - val_accuracy: 0.0000e+00\n",
      "Epoch 38/150\n",
      "27/27 [==============================] - 0s 5ms/step - loss: 0.3379 - accuracy: 0.0000e+00 - val_loss: -0.3089 - val_accuracy: 0.0000e+00\n",
      "Epoch 39/150\n",
      "27/27 [==============================] - 0s 5ms/step - loss: 0.2737 - accuracy: 0.0000e+00 - val_loss: -0.1986 - val_accuracy: 0.0000e+00\n",
      "Epoch 40/150\n",
      "27/27 [==============================] - 0s 5ms/step - loss: 0.2689 - accuracy: 0.0000e+00 - val_loss: -0.3212 - val_accuracy: 0.0000e+00\n",
      "Epoch 41/150\n",
      "27/27 [==============================] - 0s 5ms/step - loss: 0.2994 - accuracy: 0.0000e+00 - val_loss: -0.3578 - val_accuracy: 0.0000e+00\n",
      "Epoch 42/150\n",
      "27/27 [==============================] - 0s 5ms/step - loss: 0.2892 - accuracy: 0.0000e+00 - val_loss: -0.3075 - val_accuracy: 0.0000e+00\n",
      "Epoch 43/150\n",
      "27/27 [==============================] - 0s 5ms/step - loss: 0.2647 - accuracy: 0.0000e+00 - val_loss: -0.2163 - val_accuracy: 0.0000e+00\n",
      "Epoch 44/150\n",
      "27/27 [==============================] - 0s 5ms/step - loss: 0.3022 - accuracy: 0.0000e+00 - val_loss: -0.3210 - val_accuracy: 0.0000e+00\n",
      "Epoch 45/150\n",
      "27/27 [==============================] - 0s 5ms/step - loss: 0.2837 - accuracy: 0.0000e+00 - val_loss: -0.2004 - val_accuracy: 0.0000e+00\n",
      "Epoch 46/150\n",
      "27/27 [==============================] - 0s 5ms/step - loss: 0.2954 - accuracy: 0.0000e+00 - val_loss: -0.2672 - val_accuracy: 0.0000e+00\n",
      "Epoch 47/150\n",
      "27/27 [==============================] - 0s 5ms/step - loss: 0.2741 - accuracy: 0.0000e+00 - val_loss: -0.2674 - val_accuracy: 0.0000e+00\n",
      "Epoch 48/150\n",
      "27/27 [==============================] - 0s 6ms/step - loss: 0.2703 - accuracy: 0.0000e+00 - val_loss: -0.3329 - val_accuracy: 0.0000e+00\n",
      "Epoch 49/150\n",
      "27/27 [==============================] - 0s 6ms/step - loss: 0.2901 - accuracy: 0.0000e+00 - val_loss: -0.2530 - val_accuracy: 0.0000e+00\n",
      "Epoch 50/150\n",
      "27/27 [==============================] - 0s 5ms/step - loss: 0.2878 - accuracy: 0.0000e+00 - val_loss: -0.2945 - val_accuracy: 0.0000e+00\n",
      "Epoch 51/150\n",
      "27/27 [==============================] - 0s 5ms/step - loss: 0.3456 - accuracy: 0.0000e+00 - val_loss: -0.3038 - val_accuracy: 0.0000e+00\n",
      "Epoch 52/150\n",
      "27/27 [==============================] - 0s 6ms/step - loss: 0.2542 - accuracy: 0.0000e+00 - val_loss: -0.2124 - val_accuracy: 0.0000e+00\n",
      "Epoch 53/150\n",
      "27/27 [==============================] - 0s 5ms/step - loss: 0.2594 - accuracy: 0.0000e+00 - val_loss: -0.2901 - val_accuracy: 0.0000e+00\n",
      "Epoch 54/150\n",
      "27/27 [==============================] - 0s 5ms/step - loss: 0.2994 - accuracy: 0.0000e+00 - val_loss: -0.3712 - val_accuracy: 0.0000e+00\n",
      "Epoch 55/150\n"
     ]
    },
    {
     "name": "stdout",
     "output_type": "stream",
     "text": [
      "27/27 [==============================] - 0s 5ms/step - loss: 0.2647 - accuracy: 0.0000e+00 - val_loss: -0.3075 - val_accuracy: 0.0000e+00\n",
      "Epoch 56/150\n",
      "27/27 [==============================] - 0s 5ms/step - loss: 0.2801 - accuracy: 0.0000e+00 - val_loss: -0.3049 - val_accuracy: 0.0000e+00\n",
      "Epoch 57/150\n",
      "27/27 [==============================] - 0s 5ms/step - loss: 0.2693 - accuracy: 0.0000e+00 - val_loss: -0.4020 - val_accuracy: 0.0000e+00\n",
      "Epoch 58/150\n",
      "27/27 [==============================] - 0s 5ms/step - loss: 0.2541 - accuracy: 0.0000e+00 - val_loss: -0.2313 - val_accuracy: 0.0000e+00\n",
      "Epoch 59/150\n",
      "27/27 [==============================] - 0s 5ms/step - loss: 0.2690 - accuracy: 0.0000e+00 - val_loss: -0.2805 - val_accuracy: 0.0000e+00\n",
      "Epoch 60/150\n",
      "27/27 [==============================] - 0s 5ms/step - loss: 0.2750 - accuracy: 0.0000e+00 - val_loss: -0.2491 - val_accuracy: 0.0000e+00\n",
      "Epoch 61/150\n",
      "27/27 [==============================] - 0s 6ms/step - loss: 0.2729 - accuracy: 0.0000e+00 - val_loss: -0.1893 - val_accuracy: 0.0000e+00\n",
      "Epoch 62/150\n",
      "27/27 [==============================] - 0s 5ms/step - loss: 0.2398 - accuracy: 0.0000e+00 - val_loss: -0.2746 - val_accuracy: 0.0000e+00\n",
      "Epoch 63/150\n",
      "27/27 [==============================] - 0s 5ms/step - loss: 0.2810 - accuracy: 0.0000e+00 - val_loss: -0.3326 - val_accuracy: 0.0000e+00\n",
      "Epoch 64/150\n",
      "27/27 [==============================] - 0s 6ms/step - loss: 0.2726 - accuracy: 0.0000e+00 - val_loss: -0.2669 - val_accuracy: 0.0000e+00\n",
      "Epoch 65/150\n",
      "27/27 [==============================] - 0s 5ms/step - loss: 0.2454 - accuracy: 0.0000e+00 - val_loss: -0.2849 - val_accuracy: 0.0000e+00\n",
      "Epoch 66/150\n",
      "27/27 [==============================] - 0s 6ms/step - loss: 0.2683 - accuracy: 0.0000e+00 - val_loss: -0.3222 - val_accuracy: 0.0000e+00\n",
      "Epoch 67/150\n",
      "27/27 [==============================] - 0s 6ms/step - loss: 0.2645 - accuracy: 0.0000e+00 - val_loss: -0.2863 - val_accuracy: 0.0000e+00\n",
      "Epoch 68/150\n",
      "27/27 [==============================] - 0s 6ms/step - loss: 0.2635 - accuracy: 0.0000e+00 - val_loss: -0.2796 - val_accuracy: 0.0000e+00\n",
      "Epoch 69/150\n",
      "27/27 [==============================] - 0s 5ms/step - loss: 0.2769 - accuracy: 0.0000e+00 - val_loss: -0.3140 - val_accuracy: 0.0000e+00\n",
      "Epoch 70/150\n",
      "27/27 [==============================] - 0s 5ms/step - loss: 0.2886 - accuracy: 0.0000e+00 - val_loss: -0.4826 - val_accuracy: 0.0000e+00\n",
      "Epoch 71/150\n",
      "27/27 [==============================] - 0s 6ms/step - loss: 0.2682 - accuracy: 0.0000e+00 - val_loss: -0.3330 - val_accuracy: 0.0000e+00\n",
      "Epoch 72/150\n",
      "27/27 [==============================] - 0s 5ms/step - loss: 0.2519 - accuracy: 0.0000e+00 - val_loss: -0.2407 - val_accuracy: 0.0000e+00\n",
      "Epoch 73/150\n",
      "27/27 [==============================] - 0s 5ms/step - loss: 0.2793 - accuracy: 0.0000e+00 - val_loss: -0.3191 - val_accuracy: 0.0000e+00\n",
      "Epoch 74/150\n",
      "27/27 [==============================] - 0s 5ms/step - loss: 0.2486 - accuracy: 0.0000e+00 - val_loss: -0.2095 - val_accuracy: 0.0000e+00\n",
      "Epoch 75/150\n",
      "27/27 [==============================] - 0s 6ms/step - loss: 0.2546 - accuracy: 0.0000e+00 - val_loss: -0.3247 - val_accuracy: 0.0000e+00\n",
      "Epoch 76/150\n",
      "27/27 [==============================] - 0s 5ms/step - loss: 0.2456 - accuracy: 0.0000e+00 - val_loss: -0.2916 - val_accuracy: 0.0000e+00\n",
      "Epoch 77/150\n",
      "27/27 [==============================] - 0s 6ms/step - loss: 0.2884 - accuracy: 0.0000e+00 - val_loss: -0.3303 - val_accuracy: 0.0000e+00\n",
      "Epoch 78/150\n",
      "27/27 [==============================] - 0s 5ms/step - loss: 0.2650 - accuracy: 0.0000e+00 - val_loss: -0.2518 - val_accuracy: 0.0000e+00\n",
      "Epoch 79/150\n",
      "27/27 [==============================] - 0s 6ms/step - loss: 0.2629 - accuracy: 0.0000e+00 - val_loss: -0.2031 - val_accuracy: 0.0000e+00\n",
      "Epoch 80/150\n",
      "27/27 [==============================] - 0s 6ms/step - loss: 0.2579 - accuracy: 0.0000e+00 - val_loss: -0.3836 - val_accuracy: 0.0000e+00\n",
      "Epoch 81/150\n",
      "27/27 [==============================] - 0s 5ms/step - loss: 0.2962 - accuracy: 0.0000e+00 - val_loss: -0.3779 - val_accuracy: 0.0000e+00\n",
      "Epoch 82/150\n",
      "27/27 [==============================] - 0s 5ms/step - loss: 0.2594 - accuracy: 0.0000e+00 - val_loss: -0.2389 - val_accuracy: 0.0000e+00\n",
      "Epoch 83/150\n",
      "27/27 [==============================] - 0s 5ms/step - loss: 0.2647 - accuracy: 0.0000e+00 - val_loss: -0.2615 - val_accuracy: 0.0000e+00\n",
      "Epoch 84/150\n",
      "27/27 [==============================] - 0s 5ms/step - loss: 0.2578 - accuracy: 0.0000e+00 - val_loss: -0.2782 - val_accuracy: 0.0000e+00\n",
      "Epoch 85/150\n",
      "27/27 [==============================] - 0s 5ms/step - loss: 0.2885 - accuracy: 0.0000e+00 - val_loss: -0.2589 - val_accuracy: 0.0000e+00\n",
      "Epoch 86/150\n",
      "27/27 [==============================] - 0s 5ms/step - loss: 0.3258 - accuracy: 0.0000e+00 - val_loss: -0.3356 - val_accuracy: 0.0000e+00\n",
      "Epoch 87/150\n",
      "27/27 [==============================] - 0s 6ms/step - loss: 0.2336 - accuracy: 0.0000e+00 - val_loss: -0.2223 - val_accuracy: 0.0000e+00\n",
      "Epoch 88/150\n",
      "27/27 [==============================] - 0s 6ms/step - loss: 0.2408 - accuracy: 0.0000e+00 - val_loss: -0.2004 - val_accuracy: 0.0000e+00\n",
      "Epoch 89/150\n",
      "27/27 [==============================] - 0s 5ms/step - loss: 0.2509 - accuracy: 0.0000e+00 - val_loss: -0.2886 - val_accuracy: 0.0000e+00\n",
      "Epoch 90/150\n",
      "27/27 [==============================] - 0s 6ms/step - loss: 0.2429 - accuracy: 0.0000e+00 - val_loss: -0.2880 - val_accuracy: 0.0000e+00\n",
      "Epoch 91/150\n",
      "27/27 [==============================] - 0s 5ms/step - loss: 0.2832 - accuracy: 0.0000e+00 - val_loss: -0.2592 - val_accuracy: 0.0000e+00\n",
      "Epoch 92/150\n",
      "27/27 [==============================] - 0s 6ms/step - loss: 0.2822 - accuracy: 0.0000e+00 - val_loss: -0.2929 - val_accuracy: 0.0000e+00\n",
      "Epoch 93/150\n",
      "27/27 [==============================] - 0s 6ms/step - loss: 0.2411 - accuracy: 0.0000e+00 - val_loss: -0.2411 - val_accuracy: 0.0000e+00\n",
      "Epoch 94/150\n",
      "27/27 [==============================] - 0s 6ms/step - loss: 0.2795 - accuracy: 0.0000e+00 - val_loss: -0.2608 - val_accuracy: 0.0000e+00\n",
      "Epoch 95/150\n",
      "27/27 [==============================] - 0s 5ms/step - loss: 0.2483 - accuracy: 0.0000e+00 - val_loss: -0.2570 - val_accuracy: 0.0000e+00\n",
      "Epoch 96/150\n",
      "27/27 [==============================] - 0s 5ms/step - loss: 0.2457 - accuracy: 0.0000e+00 - val_loss: -0.2326 - val_accuracy: 0.0000e+00\n",
      "Epoch 97/150\n",
      "27/27 [==============================] - 0s 5ms/step - loss: 0.2411 - accuracy: 0.0000e+00 - val_loss: -0.2687 - val_accuracy: 0.0000e+00\n",
      "Epoch 98/150\n",
      "27/27 [==============================] - 0s 5ms/step - loss: 0.2366 - accuracy: 0.0000e+00 - val_loss: -0.2589 - val_accuracy: 0.0000e+00\n",
      "Epoch 99/150\n",
      "27/27 [==============================] - 0s 5ms/step - loss: 0.2449 - accuracy: 0.0000e+00 - val_loss: -0.2528 - val_accuracy: 0.0000e+00\n",
      "Epoch 100/150\n",
      "27/27 [==============================] - 0s 5ms/step - loss: 0.2445 - accuracy: 0.0000e+00 - val_loss: -0.2770 - val_accuracy: 0.0000e+00\n",
      "Epoch 101/150\n",
      "27/27 [==============================] - 0s 5ms/step - loss: 0.2502 - accuracy: 0.0000e+00 - val_loss: -0.2869 - val_accuracy: 0.0000e+00\n",
      "Epoch 102/150\n",
      "27/27 [==============================] - 0s 6ms/step - loss: 0.2519 - accuracy: 0.0000e+00 - val_loss: -0.1201 - val_accuracy: 0.0000e+00\n",
      "Epoch 103/150\n",
      "27/27 [==============================] - 0s 5ms/step - loss: 0.2684 - accuracy: 0.0000e+00 - val_loss: -0.1804 - val_accuracy: 0.0000e+00\n",
      "Epoch 104/150\n",
      "27/27 [==============================] - 0s 5ms/step - loss: 0.2461 - accuracy: 0.0000e+00 - val_loss: -0.2469 - val_accuracy: 0.0000e+00\n",
      "Epoch 105/150\n",
      "27/27 [==============================] - 0s 5ms/step - loss: 0.2496 - accuracy: 0.0000e+00 - val_loss: -0.2814 - val_accuracy: 0.0000e+00\n",
      "Epoch 106/150\n",
      "27/27 [==============================] - 0s 5ms/step - loss: 0.3171 - accuracy: 0.0000e+00 - val_loss: -0.3165 - val_accuracy: 0.0000e+00\n",
      "Epoch 107/150\n",
      "27/27 [==============================] - 0s 6ms/step - loss: 0.2954 - accuracy: 0.0000e+00 - val_loss: -0.3015 - val_accuracy: 0.0000e+00\n",
      "Epoch 108/150\n",
      "27/27 [==============================] - 0s 5ms/step - loss: 0.2992 - accuracy: 0.0000e+00 - val_loss: -0.3454 - val_accuracy: 0.0000e+00\n",
      "Epoch 109/150\n"
     ]
    },
    {
     "name": "stdout",
     "output_type": "stream",
     "text": [
      "27/27 [==============================] - 0s 5ms/step - loss: 0.2253 - accuracy: 0.0000e+00 - val_loss: -0.2217 - val_accuracy: 0.0000e+00\n",
      "Epoch 110/150\n",
      "27/27 [==============================] - 0s 5ms/step - loss: 0.2756 - accuracy: 0.0000e+00 - val_loss: -0.2150 - val_accuracy: 0.0000e+00\n",
      "Epoch 111/150\n",
      "27/27 [==============================] - 0s 5ms/step - loss: 0.2400 - accuracy: 0.0000e+00 - val_loss: -0.2166 - val_accuracy: 0.0000e+00\n",
      "Epoch 112/150\n",
      "27/27 [==============================] - 0s 5ms/step - loss: 0.2565 - accuracy: 0.0000e+00 - val_loss: -0.2044 - val_accuracy: 0.0000e+00\n",
      "Epoch 113/150\n",
      "27/27 [==============================] - 0s 5ms/step - loss: 0.2530 - accuracy: 0.0000e+00 - val_loss: -0.3312 - val_accuracy: 0.0000e+00\n",
      "Epoch 114/150\n",
      "27/27 [==============================] - 0s 5ms/step - loss: 0.2578 - accuracy: 0.0000e+00 - val_loss: -0.3144 - val_accuracy: 0.0000e+00\n",
      "Epoch 115/150\n",
      "27/27 [==============================] - 0s 5ms/step - loss: 0.2536 - accuracy: 0.0000e+00 - val_loss: -0.1565 - val_accuracy: 0.0000e+00\n",
      "Epoch 116/150\n",
      "27/27 [==============================] - 0s 5ms/step - loss: 0.2675 - accuracy: 0.0000e+00 - val_loss: -0.3300 - val_accuracy: 0.0000e+00\n",
      "Epoch 117/150\n",
      "27/27 [==============================] - 0s 5ms/step - loss: 0.2633 - accuracy: 0.0000e+00 - val_loss: -0.1756 - val_accuracy: 0.0000e+00\n",
      "Epoch 118/150\n",
      "27/27 [==============================] - 0s 5ms/step - loss: 0.2504 - accuracy: 0.0000e+00 - val_loss: -0.2662 - val_accuracy: 0.0000e+00\n",
      "Epoch 119/150\n",
      "27/27 [==============================] - 0s 5ms/step - loss: 0.2507 - accuracy: 0.0000e+00 - val_loss: -0.1141 - val_accuracy: 0.0000e+00\n",
      "Epoch 120/150\n",
      "27/27 [==============================] - 0s 5ms/step - loss: 0.2379 - accuracy: 0.0000e+00 - val_loss: -0.3514 - val_accuracy: 0.0000e+00\n",
      "Epoch 121/150\n",
      "27/27 [==============================] - 0s 5ms/step - loss: 0.2763 - accuracy: 0.0000e+00 - val_loss: -0.4629 - val_accuracy: 0.0000e+00\n",
      "Epoch 122/150\n",
      "27/27 [==============================] - 0s 5ms/step - loss: 0.2513 - accuracy: 0.0000e+00 - val_loss: -0.2683 - val_accuracy: 0.0000e+00\n",
      "Epoch 123/150\n",
      "27/27 [==============================] - 0s 5ms/step - loss: 0.2402 - accuracy: 0.0000e+00 - val_loss: -0.2645 - val_accuracy: 0.0000e+00\n",
      "Epoch 124/150\n",
      "27/27 [==============================] - 0s 5ms/step - loss: 0.2353 - accuracy: 0.0000e+00 - val_loss: -0.2209 - val_accuracy: 0.0000e+00\n",
      "Epoch 125/150\n",
      "27/27 [==============================] - 0s 6ms/step - loss: 0.2440 - accuracy: 0.0000e+00 - val_loss: -0.3038 - val_accuracy: 0.0000e+00\n",
      "Epoch 126/150\n",
      "27/27 [==============================] - 0s 5ms/step - loss: 0.2677 - accuracy: 0.0000e+00 - val_loss: -0.2743 - val_accuracy: 0.0000e+00\n",
      "Epoch 127/150\n",
      "27/27 [==============================] - 0s 5ms/step - loss: 0.2396 - accuracy: 0.0000e+00 - val_loss: -0.2911 - val_accuracy: 0.0000e+00\n",
      "Epoch 128/150\n",
      "27/27 [==============================] - 0s 5ms/step - loss: 0.2379 - accuracy: 0.0000e+00 - val_loss: -0.2272 - val_accuracy: 0.0000e+00\n",
      "Epoch 129/150\n",
      "27/27 [==============================] - 0s 5ms/step - loss: 0.2371 - accuracy: 0.0000e+00 - val_loss: -0.3025 - val_accuracy: 0.0000e+00\n",
      "Epoch 130/150\n",
      "27/27 [==============================] - 0s 5ms/step - loss: 0.2608 - accuracy: 0.0000e+00 - val_loss: -0.2284 - val_accuracy: 0.0000e+00\n",
      "Epoch 131/150\n",
      "27/27 [==============================] - 0s 5ms/step - loss: 0.2502 - accuracy: 0.0000e+00 - val_loss: -0.2945 - val_accuracy: 0.0000e+00\n",
      "Epoch 132/150\n",
      "27/27 [==============================] - 0s 5ms/step - loss: 0.2298 - accuracy: 0.0000e+00 - val_loss: -0.2676 - val_accuracy: 0.0000e+00\n",
      "Epoch 133/150\n",
      "27/27 [==============================] - 0s 5ms/step - loss: 0.2484 - accuracy: 0.0000e+00 - val_loss: -0.2597 - val_accuracy: 0.0000e+00\n",
      "Epoch 134/150\n",
      "27/27 [==============================] - 0s 5ms/step - loss: 0.2350 - accuracy: 0.0000e+00 - val_loss: -0.2307 - val_accuracy: 0.0000e+00\n",
      "Epoch 135/150\n",
      "27/27 [==============================] - 0s 5ms/step - loss: 0.2358 - accuracy: 0.0000e+00 - val_loss: -0.2469 - val_accuracy: 0.0000e+00\n",
      "Epoch 136/150\n",
      "27/27 [==============================] - 0s 5ms/step - loss: 0.2296 - accuracy: 0.0000e+00 - val_loss: -0.1131 - val_accuracy: 0.0000e+00\n",
      "Epoch 137/150\n",
      "27/27 [==============================] - 0s 5ms/step - loss: 0.2378 - accuracy: 0.0000e+00 - val_loss: -0.3187 - val_accuracy: 0.0000e+00\n",
      "Epoch 138/150\n",
      "27/27 [==============================] - 0s 5ms/step - loss: 0.2796 - accuracy: 0.0000e+00 - val_loss: -0.3630 - val_accuracy: 0.0000e+00\n",
      "Epoch 139/150\n",
      "27/27 [==============================] - 0s 5ms/step - loss: 0.2475 - accuracy: 0.0000e+00 - val_loss: -0.0626 - val_accuracy: 0.0000e+00\n",
      "Epoch 140/150\n",
      "27/27 [==============================] - 0s 5ms/step - loss: 0.2392 - accuracy: 0.0000e+00 - val_loss: -0.2382 - val_accuracy: 0.0000e+00\n",
      "Epoch 141/150\n",
      "27/27 [==============================] - 0s 5ms/step - loss: 0.2760 - accuracy: 0.0000e+00 - val_loss: -0.1539 - val_accuracy: 0.0000e+00\n",
      "Epoch 142/150\n",
      "27/27 [==============================] - 0s 5ms/step - loss: 0.2552 - accuracy: 0.0000e+00 - val_loss: -0.2525 - val_accuracy: 0.0000e+00\n",
      "Epoch 143/150\n",
      "27/27 [==============================] - 0s 5ms/step - loss: 0.2464 - accuracy: 0.0000e+00 - val_loss: -0.2674 - val_accuracy: 0.0000e+00\n",
      "Epoch 144/150\n",
      "27/27 [==============================] - 0s 6ms/step - loss: 0.2616 - accuracy: 0.0000e+00 - val_loss: -0.2971 - val_accuracy: 0.0000e+00\n",
      "Epoch 145/150\n",
      "27/27 [==============================] - 0s 5ms/step - loss: 0.3191 - accuracy: 0.0000e+00 - val_loss: -0.3334 - val_accuracy: 0.0000e+00\n",
      "Epoch 146/150\n",
      "27/27 [==============================] - 0s 5ms/step - loss: 0.2391 - accuracy: 0.0000e+00 - val_loss: -0.1591 - val_accuracy: 0.0000e+00\n",
      "Epoch 147/150\n",
      "27/27 [==============================] - 0s 5ms/step - loss: 0.2430 - accuracy: 0.0000e+00 - val_loss: -0.2581 - val_accuracy: 0.0000e+00\n",
      "Epoch 148/150\n",
      "27/27 [==============================] - 0s 5ms/step - loss: 0.2451 - accuracy: 0.0000e+00 - val_loss: -0.2197 - val_accuracy: 0.0000e+00\n",
      "Epoch 149/150\n",
      "27/27 [==============================] - 0s 5ms/step - loss: 0.2229 - accuracy: 0.0000e+00 - val_loss: -0.3089 - val_accuracy: 0.0000e+00\n",
      "Epoch 150/150\n",
      "27/27 [==============================] - 0s 5ms/step - loss: 0.2522 - accuracy: 0.0000e+00 - val_loss: -0.2726 - val_accuracy: 0.0000e+00\n"
     ]
    },
    {
     "data": {
      "text/plain": [
       "<tensorflow.python.keras.callbacks.History at 0x1d2fe3b6b50>"
      ]
     },
     "execution_count": 23,
     "metadata": {},
     "output_type": "execute_result"
    }
   ],
   "source": [
    "# Fit the model\n",
    "model.fit(t, X, validation_split=0.33, epochs=150, batch_size=10)"
   ]
  },
  {
   "cell_type": "markdown",
   "metadata": {},
   "source": [
    "# Evaluation"
   ]
  },
  {
   "cell_type": "code",
   "execution_count": null,
   "metadata": {},
   "outputs": [],
   "source": []
  }
 ],
 "metadata": {
  "interpreter": {
   "hash": "6394378ecbf0ca5a812e2eb8ea56ae8c6ee87fc6c4767b4ee04afdd1159caa61"
  },
  "kernelspec": {
   "display_name": "Python 3 (ipykernel)",
   "language": "python",
   "name": "python3"
  },
  "language_info": {
   "codemirror_mode": {
    "name": "ipython",
    "version": 3
   },
   "file_extension": ".py",
   "mimetype": "text/x-python",
   "name": "python",
   "nbconvert_exporter": "python",
   "pygments_lexer": "ipython3",
   "version": "3.9.5"
  }
 },
 "nbformat": 4,
 "nbformat_minor": 2
}
